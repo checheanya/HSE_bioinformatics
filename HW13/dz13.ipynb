{
 "cells": [
  {
   "cell_type": "code",
   "execution_count": 11,
   "metadata": {},
   "outputs": [],
   "source": [
    "#pip install rpy2"
   ]
  },
  {
   "cell_type": "markdown",
   "metadata": {},
   "source": [
    "### Problem 1 "
   ]
  },
  {
   "cell_type": "code",
   "execution_count": 22,
   "metadata": {},
   "outputs": [
    {
     "data": {
      "text/html": [
       "<img src=\"https://sun9-70.userapi.com/impg/f4EJ4Q2kao65aU8LnK80py-yvBiApWd97hQghA/TQvXWX-sQKw.jpg?size=2142x805&quality=96&sign=61de1fe6d4cff0a3a048664fa2442591&type=album\" width=\"428\" height=\"160\"/>"
      ],
      "text/plain": [
       "<IPython.core.display.Image object>"
      ]
     },
     "execution_count": 22,
     "metadata": {},
     "output_type": "execute_result"
    }
   ],
   "source": [
    "from IPython.display import Image\n",
    "from IPython.core.display import HTML \n",
    "Image(url= \"https://sun9-70.userapi.com/impg/f4EJ4Q2kao65aU8LnK80py-yvBiApWd97hQghA/TQvXWX-sQKw.jpg?size=2142x805&quality=96&sign=61de1fe6d4cff0a3a048664fa2442591&type=album\",  width=428, height=160)"
   ]
  },
  {
   "cell_type": "markdown",
   "metadata": {},
   "source": [
    "### Problem 2 "
   ]
  },
  {
   "cell_type": "code",
   "execution_count": 16,
   "metadata": {},
   "outputs": [
    {
     "name": "stderr",
     "output_type": "stream",
     "text": [
      "R[write to console]:   the design formula contains one or more numeric variables with integer values,\n",
      "  specifying a model with increasing fold change for higher values.\n",
      "  did you mean for this to be a factor? if so, first convert\n",
      "  this variable to a factor using the factor() function\n",
      "\n",
      "R[write to console]: estimating size factors\n",
      "\n",
      "R[write to console]: estimating dispersions\n",
      "\n",
      "R[write to console]: gene-wise dispersion estimates\n",
      "\n",
      "R[write to console]: mean-dispersion relationship\n",
      "\n",
      "R[write to console]: final dispersion estimates\n",
      "\n",
      "R[write to console]: fitting model and testing\n",
      "\n",
      "R[write to console]: estimating size factors\n",
      "\n",
      "R[write to console]: estimating dispersions\n",
      "\n",
      "R[write to console]: gene-wise dispersion estimates\n",
      "\n",
      "R[write to console]: mean-dispersion relationship\n",
      "\n",
      "R[write to console]: final dispersion estimates\n",
      "\n",
      "R[write to console]: fitting model and testing\n",
      "\n",
      "R[write to console]: using 'apeglm' for LFC shrinkage. If used in published research, please cite:\n",
      "    Zhu, A., Ibrahim, J.G., Love, M.I. (2018) Heavy-tailed prior distributions for\n",
      "    sequence count data: removing the noise and preserving large differences.\n",
      "    Bioinformatics. https://doi.org/10.1093/bioinformatics/bty895\n",
      "\n",
      "R[write to console]: using 'apeglm' for LFC shrinkage. If used in published research, please cite:\n",
      "    Zhu, A., Ibrahim, J.G., Love, M.I. (2018) Heavy-tailed prior distributions for\n",
      "    sequence count data: removing the noise and preserving large differences.\n",
      "    Bioinformatics. https://doi.org/10.1093/bioinformatics/bty895\n",
      "\n"
     ]
    }
   ],
   "source": [
    "import pandas as pd\n",
    "from rpy2 import robjects\n",
    "from rpy2.robjects import Formula\n",
    "\n",
    "from rpy2.robjects import pandas2ri\n",
    "pandas2ri.activate()\n",
    "\n",
    "from rpy2.robjects.packages import importr\n",
    "\n",
    "base = importr(\"base\")\n",
    "stats = importr(\"stats\")\n",
    "DESeq2 = importr(\"DESeq2\")\n",
    "\n",
    "# Load read counts table\n",
    "counts = pd.read_csv(\"colon_cancer_tumor_vs_normal_paired_counts.tsv\", sep=\"\\t\", index_col=0)\n",
    "\n",
    "# Define meta for paired\n",
    "meta = pd.DataFrame({\"Tissue\": [\"Tumor\"]*5 + [\"Normal\"]*5, \"Patient\": list(range(1, 6))*2}, index=counts.columns) # добавляем столбик с номерами пациентов\n",
    "meta[\"Tissue\"] = stats.relevel(robjects.vectors.FactorVector(meta[\"Tissue\"]), ref=\"Normal\")\n",
    "\n",
    "# Define meta for unpaired\n",
    "meta_up = pd.DataFrame({\"Tissue\": [\"Tumor\"]*5 + [\"Normal\"]*5}, index=counts.columns)\n",
    "meta_up[\"Tissue\"] = stats.relevel(robjects.vectors.FactorVector(meta_up[\"Tissue\"]), ref=\"Normal\")\n",
    "\n",
    "# Calculate normalization factors, paired\n",
    "dds = DESeq2.DESeqDataSetFromMatrix(countData=counts, colData=meta, design=Formula(\"~ Patient + Tissue\"))\n",
    "dds = DESeq2.DESeq(dds)\n",
    "\n",
    "# Calculate normalization factors, upaired\n",
    "dds_up = DESeq2.DESeqDataSetFromMatrix(countData=counts, colData=meta_up, design=Formula(\"~ Tissue\"))\n",
    "dds_up = DESeq2.DESeq(dds_up)\n",
    "\n",
    "# Results for paired\n",
    "res = DESeq2.results(dds, name=\"Tissue_Tumor_vs_Normal\")\n",
    "res = DESeq2.lfcShrink(dds, coef=\"Tissue_Tumor_vs_Normal\", type=\"apeglm\")\n",
    "res = pd.DataFrame(base.as_data_frame(res))\n",
    "res.index = counts.index\n",
    "res = res.sort_values(\"padj\")\n",
    "res = res.loc[res[\"padj\"] < 0.05]\n",
    "res = res.loc[res[\"log2FoldChange\"].abs() >= 1]\n",
    "\n",
    "# Results for unpaired\n",
    "res_up = DESeq2.results(dds_up, name=\"Tissue_Tumor_vs_Normal\")\n",
    "res_up = DESeq2.lfcShrink(dds_up, coef=\"Tissue_Tumor_vs_Normal\", type=\"apeglm\")\n",
    "res_up = pd.DataFrame(base.as_data_frame(res_up))\n",
    "res_up.index = counts.index\n",
    "res_up = res_up.sort_values(\"padj\")\n",
    "res_up = res_up.loc[res_up[\"padj\"] < 0.05]\n",
    "res_up = res_up.loc[res_up[\"log2FoldChange\"].abs() >= 1]"
   ]
  },
  {
   "cell_type": "code",
   "execution_count": 24,
   "metadata": {},
   "outputs": [
    {
     "name": "stdout",
     "output_type": "stream",
     "text": [
      "Number of genes with dif expression, paired:  3752\n",
      "Number of genes with dif expression, unpaired:  3698\n"
     ]
    }
   ],
   "source": [
    "print('Number of genes with dif expression, paired: ', res.shape[0])\n",
    "print('Number of genes with dif expression, unpaired: ', res_up.shape[0])"
   ]
  },
  {
   "cell_type": "code",
   "execution_count": 25,
   "metadata": {},
   "outputs": [
    {
     "data": {
      "text/html": [
       "<div>\n",
       "<style scoped>\n",
       "    .dataframe tbody tr th:only-of-type {\n",
       "        vertical-align: middle;\n",
       "    }\n",
       "\n",
       "    .dataframe tbody tr th {\n",
       "        vertical-align: top;\n",
       "    }\n",
       "\n",
       "    .dataframe thead th {\n",
       "        text-align: right;\n",
       "    }\n",
       "</style>\n",
       "<table border=\"1\" class=\"dataframe\">\n",
       "  <thead>\n",
       "    <tr style=\"text-align: right;\">\n",
       "      <th></th>\n",
       "      <th>baseMean</th>\n",
       "      <th>log2FoldChange</th>\n",
       "      <th>lfcSE</th>\n",
       "      <th>pvalue</th>\n",
       "      <th>padj</th>\n",
       "    </tr>\n",
       "  </thead>\n",
       "  <tbody>\n",
       "    <tr>\n",
       "      <td>RP11-474D1.3</td>\n",
       "      <td>428.358064</td>\n",
       "      <td>9.198810</td>\n",
       "      <td>0.635203</td>\n",
       "      <td>5.563747e-49</td>\n",
       "      <td>9.340974e-45</td>\n",
       "    </tr>\n",
       "    <tr>\n",
       "      <td>CDH3</td>\n",
       "      <td>1514.508985</td>\n",
       "      <td>7.334892</td>\n",
       "      <td>0.524460</td>\n",
       "      <td>1.007906e-46</td>\n",
       "      <td>8.460871e-43</td>\n",
       "    </tr>\n",
       "    <tr>\n",
       "      <td>GYLTL1B</td>\n",
       "      <td>1236.554809</td>\n",
       "      <td>5.775434</td>\n",
       "      <td>0.444917</td>\n",
       "      <td>7.321947e-40</td>\n",
       "      <td>4.097605e-36</td>\n",
       "    </tr>\n",
       "    <tr>\n",
       "      <td>MMP11</td>\n",
       "      <td>3691.591790</td>\n",
       "      <td>5.142879</td>\n",
       "      <td>0.430594</td>\n",
       "      <td>1.809578e-35</td>\n",
       "      <td>7.595253e-32</td>\n",
       "    </tr>\n",
       "    <tr>\n",
       "      <td>COMP</td>\n",
       "      <td>581.759867</td>\n",
       "      <td>7.280009</td>\n",
       "      <td>0.606253</td>\n",
       "      <td>1.018859e-34</td>\n",
       "      <td>3.421126e-31</td>\n",
       "    </tr>\n",
       "    <tr>\n",
       "      <td>WNT2</td>\n",
       "      <td>200.409369</td>\n",
       "      <td>5.744275</td>\n",
       "      <td>0.479274</td>\n",
       "      <td>2.008274e-34</td>\n",
       "      <td>5.619486e-31</td>\n",
       "    </tr>\n",
       "    <tr>\n",
       "      <td>ATG9B</td>\n",
       "      <td>165.549271</td>\n",
       "      <td>4.306160</td>\n",
       "      <td>0.366394</td>\n",
       "      <td>3.449419e-33</td>\n",
       "      <td>8.273185e-30</td>\n",
       "    </tr>\n",
       "    <tr>\n",
       "      <td>CEMIP</td>\n",
       "      <td>2198.304767</td>\n",
       "      <td>5.368031</td>\n",
       "      <td>0.463025</td>\n",
       "      <td>1.107391e-32</td>\n",
       "      <td>2.323999e-29</td>\n",
       "    </tr>\n",
       "    <tr>\n",
       "      <td>C2CD4A</td>\n",
       "      <td>543.941121</td>\n",
       "      <td>5.450331</td>\n",
       "      <td>0.486803</td>\n",
       "      <td>2.511388e-30</td>\n",
       "      <td>4.684854e-27</td>\n",
       "    </tr>\n",
       "    <tr>\n",
       "      <td>FOXQ1</td>\n",
       "      <td>1984.196069</td>\n",
       "      <td>7.509740</td>\n",
       "      <td>0.681665</td>\n",
       "      <td>1.497362e-29</td>\n",
       "      <td>2.513921e-26</td>\n",
       "    </tr>\n",
       "  </tbody>\n",
       "</table>\n",
       "</div>"
      ],
      "text/plain": [
       "                 baseMean  log2FoldChange     lfcSE        pvalue  \\\n",
       "RP11-474D1.3   428.358064        9.198810  0.635203  5.563747e-49   \n",
       "CDH3          1514.508985        7.334892  0.524460  1.007906e-46   \n",
       "GYLTL1B       1236.554809        5.775434  0.444917  7.321947e-40   \n",
       "MMP11         3691.591790        5.142879  0.430594  1.809578e-35   \n",
       "COMP           581.759867        7.280009  0.606253  1.018859e-34   \n",
       "WNT2           200.409369        5.744275  0.479274  2.008274e-34   \n",
       "ATG9B          165.549271        4.306160  0.366394  3.449419e-33   \n",
       "CEMIP         2198.304767        5.368031  0.463025  1.107391e-32   \n",
       "C2CD4A         543.941121        5.450331  0.486803  2.511388e-30   \n",
       "FOXQ1         1984.196069        7.509740  0.681665  1.497362e-29   \n",
       "\n",
       "                      padj  \n",
       "RP11-474D1.3  9.340974e-45  \n",
       "CDH3          8.460871e-43  \n",
       "GYLTL1B       4.097605e-36  \n",
       "MMP11         7.595253e-32  \n",
       "COMP          3.421126e-31  \n",
       "WNT2          5.619486e-31  \n",
       "ATG9B         8.273185e-30  \n",
       "CEMIP         2.323999e-29  \n",
       "C2CD4A        4.684854e-27  \n",
       "FOXQ1         2.513921e-26  "
      ]
     },
     "execution_count": 25,
     "metadata": {},
     "output_type": "execute_result"
    }
   ],
   "source": [
    "res.head(10)"
   ]
  },
  {
   "cell_type": "code",
   "execution_count": 26,
   "metadata": {},
   "outputs": [
    {
     "data": {
      "text/html": [
       "<div>\n",
       "<style scoped>\n",
       "    .dataframe tbody tr th:only-of-type {\n",
       "        vertical-align: middle;\n",
       "    }\n",
       "\n",
       "    .dataframe tbody tr th {\n",
       "        vertical-align: top;\n",
       "    }\n",
       "\n",
       "    .dataframe thead th {\n",
       "        text-align: right;\n",
       "    }\n",
       "</style>\n",
       "<table border=\"1\" class=\"dataframe\">\n",
       "  <thead>\n",
       "    <tr style=\"text-align: right;\">\n",
       "      <th></th>\n",
       "      <th>baseMean</th>\n",
       "      <th>log2FoldChange</th>\n",
       "      <th>lfcSE</th>\n",
       "      <th>pvalue</th>\n",
       "      <th>padj</th>\n",
       "    </tr>\n",
       "  </thead>\n",
       "  <tbody>\n",
       "    <tr>\n",
       "      <td>RP11-474D1.3</td>\n",
       "      <td>428.358064</td>\n",
       "      <td>9.178134</td>\n",
       "      <td>0.593908</td>\n",
       "      <td>1.364930e-54</td>\n",
       "      <td>2.262371e-50</td>\n",
       "    </tr>\n",
       "    <tr>\n",
       "      <td>CDH3</td>\n",
       "      <td>1514.508985</td>\n",
       "      <td>7.240486</td>\n",
       "      <td>0.530773</td>\n",
       "      <td>9.231125e-44</td>\n",
       "      <td>7.650295e-40</td>\n",
       "    </tr>\n",
       "    <tr>\n",
       "      <td>MMP11</td>\n",
       "      <td>3691.591790</td>\n",
       "      <td>5.176798</td>\n",
       "      <td>0.405912</td>\n",
       "      <td>1.842664e-38</td>\n",
       "      <td>1.018072e-34</td>\n",
       "    </tr>\n",
       "    <tr>\n",
       "      <td>WNT2</td>\n",
       "      <td>200.409369</td>\n",
       "      <td>5.736149</td>\n",
       "      <td>0.463340</td>\n",
       "      <td>1.835779e-36</td>\n",
       "      <td>7.607009e-33</td>\n",
       "    </tr>\n",
       "    <tr>\n",
       "      <td>ATG9B</td>\n",
       "      <td>165.549271</td>\n",
       "      <td>4.310814</td>\n",
       "      <td>0.349275</td>\n",
       "      <td>2.897243e-36</td>\n",
       "      <td>9.604360e-33</td>\n",
       "    </tr>\n",
       "    <tr>\n",
       "      <td>CEMIP</td>\n",
       "      <td>2198.304767</td>\n",
       "      <td>5.345004</td>\n",
       "      <td>0.448791</td>\n",
       "      <td>6.104611e-34</td>\n",
       "      <td>1.686399e-30</td>\n",
       "    </tr>\n",
       "    <tr>\n",
       "      <td>SPTBN2</td>\n",
       "      <td>784.826206</td>\n",
       "      <td>3.162476</td>\n",
       "      <td>0.266881</td>\n",
       "      <td>1.503094e-33</td>\n",
       "      <td>3.559111e-30</td>\n",
       "    </tr>\n",
       "    <tr>\n",
       "      <td>GYLTL1B</td>\n",
       "      <td>1236.554809</td>\n",
       "      <td>5.805921</td>\n",
       "      <td>0.493538</td>\n",
       "      <td>3.394461e-33</td>\n",
       "      <td>7.032899e-30</td>\n",
       "    </tr>\n",
       "    <tr>\n",
       "      <td>C2CD4A</td>\n",
       "      <td>543.941121</td>\n",
       "      <td>5.453214</td>\n",
       "      <td>0.472709</td>\n",
       "      <td>5.122209e-32</td>\n",
       "      <td>9.433401e-29</td>\n",
       "    </tr>\n",
       "    <tr>\n",
       "      <td>TRIB3</td>\n",
       "      <td>2446.836922</td>\n",
       "      <td>4.814901</td>\n",
       "      <td>0.427638</td>\n",
       "      <td>1.258391e-30</td>\n",
       "      <td>2.085784e-27</td>\n",
       "    </tr>\n",
       "  </tbody>\n",
       "</table>\n",
       "</div>"
      ],
      "text/plain": [
       "                 baseMean  log2FoldChange     lfcSE        pvalue  \\\n",
       "RP11-474D1.3   428.358064        9.178134  0.593908  1.364930e-54   \n",
       "CDH3          1514.508985        7.240486  0.530773  9.231125e-44   \n",
       "MMP11         3691.591790        5.176798  0.405912  1.842664e-38   \n",
       "WNT2           200.409369        5.736149  0.463340  1.835779e-36   \n",
       "ATG9B          165.549271        4.310814  0.349275  2.897243e-36   \n",
       "CEMIP         2198.304767        5.345004  0.448791  6.104611e-34   \n",
       "SPTBN2         784.826206        3.162476  0.266881  1.503094e-33   \n",
       "GYLTL1B       1236.554809        5.805921  0.493538  3.394461e-33   \n",
       "C2CD4A         543.941121        5.453214  0.472709  5.122209e-32   \n",
       "TRIB3         2446.836922        4.814901  0.427638  1.258391e-30   \n",
       "\n",
       "                      padj  \n",
       "RP11-474D1.3  2.262371e-50  \n",
       "CDH3          7.650295e-40  \n",
       "MMP11         1.018072e-34  \n",
       "WNT2          7.607009e-33  \n",
       "ATG9B         9.604360e-33  \n",
       "CEMIP         1.686399e-30  \n",
       "SPTBN2        3.559111e-30  \n",
       "GYLTL1B       7.032899e-30  \n",
       "C2CD4A        9.433401e-29  \n",
       "TRIB3         2.085784e-27  "
      ]
     },
     "execution_count": 26,
     "metadata": {},
     "output_type": "execute_result"
    }
   ],
   "source": [
    "res_up.head(10)"
   ]
  },
  {
   "cell_type": "code",
   "execution_count": 32,
   "metadata": {},
   "outputs": [
    {
     "name": "stdout",
     "output_type": "stream",
     "text": [
      "Common genes:  {'MMP11', 'CDH3', 'ATG9B', 'C2CD4A', 'RP11-474D1.3', 'GYLTL1B', 'CEMIP', 'WNT2'} \n",
      " 8 in total\n"
     ]
    }
   ],
   "source": [
    "names_p = set(res.iloc[:10].index.tolist())\n",
    "names_up = set(res_up.iloc[:10].index.tolist())\n",
    "print('Common genes: ', names_p.intersection(names_up), '\\n', '{} in total'.format(len(names_p.intersection(names_up))))"
   ]
  },
  {
   "cell_type": "markdown",
   "metadata": {},
   "source": [
    "### Problem 3"
   ]
  },
  {
   "cell_type": "markdown",
   "metadata": {},
   "source": [
    "1) DESeq2"
   ]
  },
  {
   "cell_type": "code",
   "execution_count": 33,
   "metadata": {},
   "outputs": [
    {
     "name": "stderr",
     "output_type": "stream",
     "text": [
      "R[write to console]: estimating size factors\n",
      "\n",
      "R[write to console]: estimating dispersions\n",
      "\n",
      "R[write to console]: gene-wise dispersion estimates\n",
      "\n",
      "R[write to console]: mean-dispersion relationship\n",
      "\n",
      "R[write to console]: final dispersion estimates\n",
      "\n",
      "R[write to console]: fitting model and testing\n",
      "\n",
      "R[write to console]: using 'apeglm' for LFC shrinkage. If used in published research, please cite:\n",
      "    Zhu, A., Ibrahim, J.G., Love, M.I. (2018) Heavy-tailed prior distributions for\n",
      "    sequence count data: removing the noise and preserving large differences.\n",
      "    Bioinformatics. https://doi.org/10.1093/bioinformatics/bty895\n",
      "\n"
     ]
    }
   ],
   "source": [
    "# Load read counts table\n",
    "counts = pd.read_csv(\"colon_cancer_tumor_vs_normal_unpaired_counts.tsv\", sep=\"\\t\", index_col=0)\n",
    "\n",
    "# Define meta\n",
    "meta = pd.DataFrame({\"Tissue\": [\"Tumor\"]*5 + [\"Normal\"]*5}, index=counts.columns)\n",
    "meta[\"Tissue\"] = stats.relevel(robjects.vectors.FactorVector(meta[\"Tissue\"]), ref=\"Normal\")\n",
    "\n",
    "# Calculate normalization factors\n",
    "dds = DESeq2.DESeqDataSetFromMatrix(countData=counts, colData=meta, design=Formula(\"~ Tissue\"))\n",
    "dds = DESeq2.DESeq(dds)\n",
    "\n",
    "res = DESeq2.results(dds, name=\"Tissue_Tumor_vs_Normal\")\n",
    "res = DESeq2.lfcShrink(dds, coef=\"Tissue_Tumor_vs_Normal\", type=\"apeglm\")\n",
    "res = pd.DataFrame(base.as_data_frame(res))\n",
    "res.index = counts.index\n",
    "res = res.sort_values(\"padj\")\n",
    "res = res.loc[res[\"padj\"] < 0.05]\n",
    "res = res.loc[res[\"log2FoldChange\"].abs() >= 1]"
   ]
  },
  {
   "cell_type": "code",
   "execution_count": 46,
   "metadata": {},
   "outputs": [],
   "source": [
    "names_deseq = set(res.iloc[:10].index.tolist())"
   ]
  },
  {
   "cell_type": "markdown",
   "metadata": {},
   "source": [
    "2) T-test"
   ]
  },
  {
   "cell_type": "code",
   "execution_count": 36,
   "metadata": {},
   "outputs": [],
   "source": [
    "from scipy.stats import ttest_ind, mannwhitneyu"
   ]
  },
  {
   "cell_type": "code",
   "execution_count": 34,
   "metadata": {},
   "outputs": [],
   "source": [
    "df = pd.read_csv(\"colon_cancer_tumor_vs_normal_unpaired_FPKM.tsv\", sep=\"\\t\", index_col=0)"
   ]
  },
  {
   "cell_type": "code",
   "execution_count": 37,
   "metadata": {},
   "outputs": [],
   "source": [
    "df[\"t-test\"] = [ttest_ind(df.loc[gene].iloc[0:5], df.loc[gene].iloc[5:10])[1] for gene in df.index]"
   ]
  },
  {
   "cell_type": "code",
   "execution_count": 38,
   "metadata": {},
   "outputs": [
    {
     "data": {
      "text/html": [
       "<div>\n",
       "<style scoped>\n",
       "    .dataframe tbody tr th:only-of-type {\n",
       "        vertical-align: middle;\n",
       "    }\n",
       "\n",
       "    .dataframe tbody tr th {\n",
       "        vertical-align: top;\n",
       "    }\n",
       "\n",
       "    .dataframe thead th {\n",
       "        text-align: right;\n",
       "    }\n",
       "</style>\n",
       "<table border=\"1\" class=\"dataframe\">\n",
       "  <thead>\n",
       "    <tr style=\"text-align: right;\">\n",
       "      <th></th>\n",
       "      <th>TCGA-A6-2682-01A</th>\n",
       "      <th>TCGA-A6-2683-01A</th>\n",
       "      <th>TCGA-A6-2685-01A</th>\n",
       "      <th>TCGA-A6-2686-01A</th>\n",
       "      <th>TCGA-A6-5662-01A</th>\n",
       "      <th>TCGA-A6-5667-11A</th>\n",
       "      <th>TCGA-AA-3489-11A</th>\n",
       "      <th>TCGA-AA-3496-11A</th>\n",
       "      <th>TCGA-AA-3511-11A</th>\n",
       "      <th>TCGA-AA-3514-11A</th>\n",
       "      <th>t-test</th>\n",
       "    </tr>\n",
       "  </thead>\n",
       "  <tbody>\n",
       "    <tr>\n",
       "      <td>A1CF</td>\n",
       "      <td>1.547019</td>\n",
       "      <td>0.894565</td>\n",
       "      <td>1.039517</td>\n",
       "      <td>1.234973</td>\n",
       "      <td>2.044833</td>\n",
       "      <td>2.946113</td>\n",
       "      <td>1.639260</td>\n",
       "      <td>2.426929</td>\n",
       "      <td>2.843991</td>\n",
       "      <td>3.076967</td>\n",
       "      <td>0.005837</td>\n",
       "    </tr>\n",
       "    <tr>\n",
       "      <td>A2M</td>\n",
       "      <td>4.582925</td>\n",
       "      <td>4.265146</td>\n",
       "      <td>6.733503</td>\n",
       "      <td>5.365323</td>\n",
       "      <td>4.887795</td>\n",
       "      <td>6.229407</td>\n",
       "      <td>6.419737</td>\n",
       "      <td>7.530414</td>\n",
       "      <td>6.271137</td>\n",
       "      <td>6.456290</td>\n",
       "      <td>0.021117</td>\n",
       "    </tr>\n",
       "    <tr>\n",
       "      <td>A4GALT</td>\n",
       "      <td>2.464183</td>\n",
       "      <td>1.029877</td>\n",
       "      <td>2.987627</td>\n",
       "      <td>2.968100</td>\n",
       "      <td>1.008922</td>\n",
       "      <td>2.052049</td>\n",
       "      <td>2.906305</td>\n",
       "      <td>3.246963</td>\n",
       "      <td>2.353158</td>\n",
       "      <td>1.645262</td>\n",
       "      <td>0.530473</td>\n",
       "    </tr>\n",
       "    <tr>\n",
       "      <td>AAAS</td>\n",
       "      <td>3.944550</td>\n",
       "      <td>4.208170</td>\n",
       "      <td>3.339402</td>\n",
       "      <td>3.262123</td>\n",
       "      <td>3.867766</td>\n",
       "      <td>3.351890</td>\n",
       "      <td>3.037341</td>\n",
       "      <td>3.224427</td>\n",
       "      <td>3.317121</td>\n",
       "      <td>3.457587</td>\n",
       "      <td>0.051734</td>\n",
       "    </tr>\n",
       "    <tr>\n",
       "      <td>AACS</td>\n",
       "      <td>2.516894</td>\n",
       "      <td>3.609837</td>\n",
       "      <td>1.857860</td>\n",
       "      <td>2.025942</td>\n",
       "      <td>1.456029</td>\n",
       "      <td>2.101438</td>\n",
       "      <td>1.949161</td>\n",
       "      <td>1.636366</td>\n",
       "      <td>2.214175</td>\n",
       "      <td>1.967613</td>\n",
       "      <td>0.428299</td>\n",
       "    </tr>\n",
       "  </tbody>\n",
       "</table>\n",
       "</div>"
      ],
      "text/plain": [
       "        TCGA-A6-2682-01A  TCGA-A6-2683-01A  TCGA-A6-2685-01A  \\\n",
       "A1CF            1.547019          0.894565          1.039517   \n",
       "A2M             4.582925          4.265146          6.733503   \n",
       "A4GALT          2.464183          1.029877          2.987627   \n",
       "AAAS            3.944550          4.208170          3.339402   \n",
       "AACS            2.516894          3.609837          1.857860   \n",
       "\n",
       "        TCGA-A6-2686-01A  TCGA-A6-5662-01A  TCGA-A6-5667-11A  \\\n",
       "A1CF            1.234973          2.044833          2.946113   \n",
       "A2M             5.365323          4.887795          6.229407   \n",
       "A4GALT          2.968100          1.008922          2.052049   \n",
       "AAAS            3.262123          3.867766          3.351890   \n",
       "AACS            2.025942          1.456029          2.101438   \n",
       "\n",
       "        TCGA-AA-3489-11A  TCGA-AA-3496-11A  TCGA-AA-3511-11A  \\\n",
       "A1CF            1.639260          2.426929          2.843991   \n",
       "A2M             6.419737          7.530414          6.271137   \n",
       "A4GALT          2.906305          3.246963          2.353158   \n",
       "AAAS            3.037341          3.224427          3.317121   \n",
       "AACS            1.949161          1.636366          2.214175   \n",
       "\n",
       "        TCGA-AA-3514-11A    t-test  \n",
       "A1CF            3.076967  0.005837  \n",
       "A2M             6.456290  0.021117  \n",
       "A4GALT          1.645262  0.530473  \n",
       "AAAS            3.457587  0.051734  \n",
       "AACS            1.967613  0.428299  "
      ]
     },
     "execution_count": 38,
     "metadata": {},
     "output_type": "execute_result"
    }
   ],
   "source": [
    "df.head(5)"
   ]
  },
  {
   "cell_type": "code",
   "execution_count": 39,
   "metadata": {},
   "outputs": [],
   "source": [
    "df.sort_values(\"t-test\", inplace = True)"
   ]
  },
  {
   "cell_type": "code",
   "execution_count": 40,
   "metadata": {},
   "outputs": [],
   "source": [
    "names_ttest = set(df.iloc[:10].index.tolist())"
   ]
  },
  {
   "cell_type": "markdown",
   "metadata": {},
   "source": [
    "3) Mann-Whitney"
   ]
  },
  {
   "cell_type": "code",
   "execution_count": 41,
   "metadata": {},
   "outputs": [],
   "source": [
    "df[\"mann-whitney\"] = [mannwhitneyu(df.loc[gene].iloc[0:5], df.loc[gene].iloc[5:10])[1] for gene in df.index]"
   ]
  },
  {
   "cell_type": "code",
   "execution_count": 42,
   "metadata": {},
   "outputs": [
    {
     "data": {
      "text/html": [
       "<div>\n",
       "<style scoped>\n",
       "    .dataframe tbody tr th:only-of-type {\n",
       "        vertical-align: middle;\n",
       "    }\n",
       "\n",
       "    .dataframe tbody tr th {\n",
       "        vertical-align: top;\n",
       "    }\n",
       "\n",
       "    .dataframe thead th {\n",
       "        text-align: right;\n",
       "    }\n",
       "</style>\n",
       "<table border=\"1\" class=\"dataframe\">\n",
       "  <thead>\n",
       "    <tr style=\"text-align: right;\">\n",
       "      <th></th>\n",
       "      <th>TCGA-A6-2682-01A</th>\n",
       "      <th>TCGA-A6-2683-01A</th>\n",
       "      <th>TCGA-A6-2685-01A</th>\n",
       "      <th>TCGA-A6-2686-01A</th>\n",
       "      <th>TCGA-A6-5662-01A</th>\n",
       "      <th>TCGA-A6-5667-11A</th>\n",
       "      <th>TCGA-AA-3489-11A</th>\n",
       "      <th>TCGA-AA-3496-11A</th>\n",
       "      <th>TCGA-AA-3511-11A</th>\n",
       "      <th>TCGA-AA-3514-11A</th>\n",
       "      <th>t-test</th>\n",
       "      <th>mann-whitney</th>\n",
       "    </tr>\n",
       "  </thead>\n",
       "  <tbody>\n",
       "    <tr>\n",
       "      <td>C17orf96</td>\n",
       "      <td>2.208655</td>\n",
       "      <td>2.271381</td>\n",
       "      <td>2.110553</td>\n",
       "      <td>1.931605</td>\n",
       "      <td>2.134961</td>\n",
       "      <td>0.350263</td>\n",
       "      <td>0.378597</td>\n",
       "      <td>0.227003</td>\n",
       "      <td>0.596774</td>\n",
       "      <td>0.293597</td>\n",
       "      <td>3.038037e-08</td>\n",
       "      <td>0.006093</td>\n",
       "    </tr>\n",
       "    <tr>\n",
       "      <td>IER5L</td>\n",
       "      <td>3.260536</td>\n",
       "      <td>3.232935</td>\n",
       "      <td>3.700343</td>\n",
       "      <td>3.177976</td>\n",
       "      <td>3.413447</td>\n",
       "      <td>0.829843</td>\n",
       "      <td>1.166137</td>\n",
       "      <td>1.142582</td>\n",
       "      <td>0.841251</td>\n",
       "      <td>1.217703</td>\n",
       "      <td>8.053047e-08</td>\n",
       "      <td>0.006093</td>\n",
       "    </tr>\n",
       "    <tr>\n",
       "      <td>FUT1</td>\n",
       "      <td>2.138850</td>\n",
       "      <td>2.079783</td>\n",
       "      <td>2.353682</td>\n",
       "      <td>2.011687</td>\n",
       "      <td>1.926245</td>\n",
       "      <td>0.502530</td>\n",
       "      <td>0.349470</td>\n",
       "      <td>0.595230</td>\n",
       "      <td>0.363252</td>\n",
       "      <td>0.248911</td>\n",
       "      <td>9.848163e-08</td>\n",
       "      <td>0.006093</td>\n",
       "    </tr>\n",
       "    <tr>\n",
       "      <td>CDH3</td>\n",
       "      <td>3.854697</td>\n",
       "      <td>5.154501</td>\n",
       "      <td>4.697838</td>\n",
       "      <td>4.577931</td>\n",
       "      <td>4.049763</td>\n",
       "      <td>0.252407</td>\n",
       "      <td>0.853837</td>\n",
       "      <td>0.197600</td>\n",
       "      <td>0.785468</td>\n",
       "      <td>0.114806</td>\n",
       "      <td>5.472875e-07</td>\n",
       "      <td>0.006093</td>\n",
       "    </tr>\n",
       "    <tr>\n",
       "      <td>FXYD5</td>\n",
       "      <td>5.300331</td>\n",
       "      <td>5.416488</td>\n",
       "      <td>5.127298</td>\n",
       "      <td>5.509872</td>\n",
       "      <td>5.389215</td>\n",
       "      <td>3.194099</td>\n",
       "      <td>3.194294</td>\n",
       "      <td>3.544618</td>\n",
       "      <td>3.717627</td>\n",
       "      <td>2.970552</td>\n",
       "      <td>8.408204e-07</td>\n",
       "      <td>0.006093</td>\n",
       "    </tr>\n",
       "  </tbody>\n",
       "</table>\n",
       "</div>"
      ],
      "text/plain": [
       "          TCGA-A6-2682-01A  TCGA-A6-2683-01A  TCGA-A6-2685-01A  \\\n",
       "C17orf96          2.208655          2.271381          2.110553   \n",
       "IER5L             3.260536          3.232935          3.700343   \n",
       "FUT1              2.138850          2.079783          2.353682   \n",
       "CDH3              3.854697          5.154501          4.697838   \n",
       "FXYD5             5.300331          5.416488          5.127298   \n",
       "\n",
       "          TCGA-A6-2686-01A  TCGA-A6-5662-01A  TCGA-A6-5667-11A  \\\n",
       "C17orf96          1.931605          2.134961          0.350263   \n",
       "IER5L             3.177976          3.413447          0.829843   \n",
       "FUT1              2.011687          1.926245          0.502530   \n",
       "CDH3              4.577931          4.049763          0.252407   \n",
       "FXYD5             5.509872          5.389215          3.194099   \n",
       "\n",
       "          TCGA-AA-3489-11A  TCGA-AA-3496-11A  TCGA-AA-3511-11A  \\\n",
       "C17orf96          0.378597          0.227003          0.596774   \n",
       "IER5L             1.166137          1.142582          0.841251   \n",
       "FUT1              0.349470          0.595230          0.363252   \n",
       "CDH3              0.853837          0.197600          0.785468   \n",
       "FXYD5             3.194294          3.544618          3.717627   \n",
       "\n",
       "          TCGA-AA-3514-11A        t-test  mann-whitney  \n",
       "C17orf96          0.293597  3.038037e-08      0.006093  \n",
       "IER5L             1.217703  8.053047e-08      0.006093  \n",
       "FUT1              0.248911  9.848163e-08      0.006093  \n",
       "CDH3              0.114806  5.472875e-07      0.006093  \n",
       "FXYD5             2.970552  8.408204e-07      0.006093  "
      ]
     },
     "execution_count": 42,
     "metadata": {},
     "output_type": "execute_result"
    }
   ],
   "source": [
    "df.head(5)"
   ]
  },
  {
   "cell_type": "code",
   "execution_count": 43,
   "metadata": {},
   "outputs": [],
   "source": [
    "df.sort_values(\"mann-whitney\", inplace = True)"
   ]
  },
  {
   "cell_type": "code",
   "execution_count": 44,
   "metadata": {},
   "outputs": [],
   "source": [
    "names_mw = set(df.iloc[:10].index.tolist())"
   ]
  },
  {
   "cell_type": "code",
   "execution_count": 47,
   "metadata": {},
   "outputs": [
    {
     "name": "stdout",
     "output_type": "stream",
     "text": [
      "DESeq2 and t-test {'IER5L', 'C17orf96', 'FUT1'}\n",
      "DESeq2 and Mann-Whitney set()\n",
      "t-test and Mann-Whitney set()\n"
     ]
    }
   ],
   "source": [
    "print('DESeq2 and t-test', names_deseq.intersection(names_ttest))\n",
    "print('DESeq2 and Mann-Whitney', names_deseq.intersection(names_mw))\n",
    "print('t-test and Mann-Whitney', names_ttest.intersection(names_mw))"
   ]
  },
  {
   "cell_type": "markdown",
   "metadata": {},
   "source": [
    "### Problem 4"
   ]
  },
  {
   "cell_type": "code",
   "execution_count": 48,
   "metadata": {},
   "outputs": [],
   "source": [
    "import seaborn as sns\n",
    "import matplotlib.pyplot as plt"
   ]
  },
  {
   "cell_type": "code",
   "execution_count": 55,
   "metadata": {},
   "outputs": [],
   "source": [
    "ds = counts.loc[names_deseq].T"
   ]
  },
  {
   "cell_type": "code",
   "execution_count": 70,
   "metadata": {},
   "outputs": [
    {
     "data": {
      "image/png": "[encoded data removed]",
      "text/plain": [
       "<Figure size 1080x576 with 1 Axes>"
      ]
     },
     "metadata": {
      "needs_background": "light"
     },
     "output_type": "display_data"
    }
   ],
   "source": [
    "plt.figure(figsize=(15,8))\n",
    "sns.violinplot(data=ds)\n",
    "plt.title('Top-10 genes via DESeq2')\n",
    "plt.show()"
   ]
  },
  {
   "cell_type": "code",
   "execution_count": 69,
   "metadata": {},
   "outputs": [],
   "source": [
    "tt = df.loc[names_ttest].T"
   ]
  },
  {
   "cell_type": "code",
   "execution_count": 71,
   "metadata": {},
   "outputs": [
    {
     "data": {
      "image/png": "[encoded data removed]",
      "text/plain": [
       "<Figure size 1080x576 with 1 Axes>"
      ]
     },
     "metadata": {
      "needs_background": "light"
     },
     "output_type": "display_data"
    }
   ],
   "source": [
    "plt.figure(figsize=(15,8))\n",
    "sns.violinplot(data=tt)\n",
    "plt.title('Top-10 genes via t-test')\n",
    "plt.show()"
   ]
  },
  {
   "cell_type": "code",
   "execution_count": 74,
   "metadata": {},
   "outputs": [],
   "source": [
    "mw = df.loc[names_mw].T"
   ]
  },
  {
   "cell_type": "code",
   "execution_count": 75,
   "metadata": {},
   "outputs": [
    {
     "data": {
      "image/png": "[encoded data removed]",
      "text/plain": [
       "<Figure size 1080x576 with 1 Axes>"
      ]
     },
     "metadata": {
      "needs_background": "light"
     },
     "output_type": "display_data"
    }
   ],
   "source": [
    "plt.figure(figsize=(15,8))\n",
    "sns.violinplot(data=mw)\n",
    "plt.title('Top-10 genes via Mann-Whitney')\n",
    "plt.show()"
   ]
  },
  {
   "cell_type": "markdown",
   "metadata": {},
   "source": [
    "### Problem 5"
   ]
  },
  {
   "cell_type": "code",
   "execution_count": 76,
   "metadata": {},
   "outputs": [],
   "source": [
    "import random"
   ]
  },
  {
   "cell_type": "code",
   "execution_count": 77,
   "metadata": {},
   "outputs": [
    {
     "data": {
      "text/html": [
       "<div>\n",
       "<style scoped>\n",
       "    .dataframe tbody tr th:only-of-type {\n",
       "        vertical-align: middle;\n",
       "    }\n",
       "\n",
       "    .dataframe tbody tr th {\n",
       "        vertical-align: top;\n",
       "    }\n",
       "\n",
       "    .dataframe thead th {\n",
       "        text-align: right;\n",
       "    }\n",
       "</style>\n",
       "<table border=\"1\" class=\"dataframe\">\n",
       "  <thead>\n",
       "    <tr style=\"text-align: right;\">\n",
       "      <th></th>\n",
       "    </tr>\n",
       "    <tr>\n",
       "      <th>0</th>\n",
       "    </tr>\n",
       "  </thead>\n",
       "  <tbody>\n",
       "    <tr>\n",
       "      <td>5S_rRNA</td>\n",
       "    </tr>\n",
       "    <tr>\n",
       "      <td>5_8S_rRNA</td>\n",
       "    </tr>\n",
       "    <tr>\n",
       "      <td>7SK</td>\n",
       "    </tr>\n",
       "    <tr>\n",
       "      <td>A1BG</td>\n",
       "    </tr>\n",
       "    <tr>\n",
       "      <td>A1BG-AS1</td>\n",
       "    </tr>\n",
       "  </tbody>\n",
       "</table>\n",
       "</div>"
      ],
      "text/plain": [
       "Empty DataFrame\n",
       "Columns: []\n",
       "Index: [5S_rRNA, 5_8S_rRNA, 7SK, A1BG, A1BG-AS1]"
      ]
     },
     "execution_count": 77,
     "metadata": {},
     "output_type": "execute_result"
    }
   ],
   "source": [
    "all_g = pd.read_csv('all_genes.txt', sep='\\t', header=None, index_col=0)\n",
    "all_g.head(5)"
   ]
  },
  {
   "cell_type": "code",
   "execution_count": 78,
   "metadata": {},
   "outputs": [],
   "source": [
    "for i in range(5):\n",
    "    all_g.sample(1000).to_csv('all_genes{}.txt'.format(str(i)), header=None, sep='\\t')"
   ]
  },
  {
   "cell_type": "code",
   "execution_count": 79,
   "metadata": {},
   "outputs": [],
   "source": [
    "df = pd.DataFrame({'p-value < 0.05': [21, 40, 43, 49, 35], 'Benjamini < 0.05': [0, 0, 0, 0, 0]})"
   ]
  },
  {
   "cell_type": "code",
   "execution_count": 80,
   "metadata": {},
   "outputs": [
    {
     "data": {
      "text/html": [
       "<div>\n",
       "<style scoped>\n",
       "    .dataframe tbody tr th:only-of-type {\n",
       "        vertical-align: middle;\n",
       "    }\n",
       "\n",
       "    .dataframe tbody tr th {\n",
       "        vertical-align: top;\n",
       "    }\n",
       "\n",
       "    .dataframe thead th {\n",
       "        text-align: right;\n",
       "    }\n",
       "</style>\n",
       "<table border=\"1\" class=\"dataframe\">\n",
       "  <thead>\n",
       "    <tr style=\"text-align: right;\">\n",
       "      <th></th>\n",
       "      <th>p-value &lt; 0.05</th>\n",
       "      <th>Benjamini &lt; 0.05</th>\n",
       "    </tr>\n",
       "  </thead>\n",
       "  <tbody>\n",
       "    <tr>\n",
       "      <td>0</td>\n",
       "      <td>21</td>\n",
       "      <td>0</td>\n",
       "    </tr>\n",
       "    <tr>\n",
       "      <td>1</td>\n",
       "      <td>40</td>\n",
       "      <td>0</td>\n",
       "    </tr>\n",
       "    <tr>\n",
       "      <td>2</td>\n",
       "      <td>43</td>\n",
       "      <td>0</td>\n",
       "    </tr>\n",
       "    <tr>\n",
       "      <td>3</td>\n",
       "      <td>49</td>\n",
       "      <td>0</td>\n",
       "    </tr>\n",
       "    <tr>\n",
       "      <td>4</td>\n",
       "      <td>35</td>\n",
       "      <td>0</td>\n",
       "    </tr>\n",
       "  </tbody>\n",
       "</table>\n",
       "</div>"
      ],
      "text/plain": [
       "   p-value < 0.05  Benjamini < 0.05\n",
       "0              21                 0\n",
       "1              40                 0\n",
       "2              43                 0\n",
       "3              49                 0\n",
       "4              35                 0"
      ]
     },
     "execution_count": 80,
     "metadata": {},
     "output_type": "execute_result"
    }
   ],
   "source": [
    "df"
   ]
  },
  {
   "cell_type": "code",
   "execution_count": null,
   "metadata": {},
   "outputs": [],
   "source": []
  }
 ],
 "metadata": {
  "kernelspec": {
   "display_name": "Python 3",
   "language": "python",
   "name": "python3"
  },
  "language_info": {
   "codemirror_mode": {
    "name": "ipython",
    "version": 3
   },
   "file_extension": ".py",
   "mimetype": "text/x-python",
   "name": "python",
   "nbconvert_exporter": "python",
   "pygments_lexer": "ipython3",
   "version": "3.7.4"
  }
 },
 "nbformat": 4,
 "nbformat_minor": 2
}

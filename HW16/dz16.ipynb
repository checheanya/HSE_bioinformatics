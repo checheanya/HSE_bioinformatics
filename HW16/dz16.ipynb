{
 "cells": [
  {
   "cell_type": "markdown",
   "metadata": {},
   "source": [
    "### Problem 3"
   ]
  },
  {
   "cell_type": "code",
   "execution_count": 27,
   "metadata": {},
   "outputs": [],
   "source": [
    "import pandas as pd\n",
    "import numpy as np\n",
    "\n",
    "from sklearn.svm import SVC\n",
    "from sklearn.metrics import accuracy_score, balanced_accuracy_score\n",
    "from sklearn.model_selection import train_test_split\n",
    "from sklearn.metrics import confusion_matrix, plot_roc_curve\n",
    "\n",
    "from scikitplot.metrics import plot_roc\n",
    "\n",
    "import seaborn as sns\n",
    "import matplotlib.pyplot as plt"
   ]
  },
  {
   "cell_type": "code",
   "execution_count": 28,
   "metadata": {},
   "outputs": [],
   "source": [
    "df = pd.read_csv(\"BRCA_pam50.tsv\", sep=\"\\t\", index_col=0)\n",
    "df = df.loc[df[\"Subtype\"].isin([\"Luminal A\", \"Luminal B\"])]\n",
    "X = df.iloc[:, :-1].to_numpy()\n",
    "y = df.loc[:,\"Subtype\"].to_numpy()"
   ]
  },
  {
   "cell_type": "code",
   "execution_count": 29,
   "metadata": {},
   "outputs": [
    {
     "data": {
      "text/html": [
       "<div>\n",
       "<style scoped>\n",
       "    .dataframe tbody tr th:only-of-type {\n",
       "        vertical-align: middle;\n",
       "    }\n",
       "\n",
       "    .dataframe tbody tr th {\n",
       "        vertical-align: top;\n",
       "    }\n",
       "\n",
       "    .dataframe thead th {\n",
       "        text-align: right;\n",
       "    }\n",
       "</style>\n",
       "<table border=\"1\" class=\"dataframe\">\n",
       "  <thead>\n",
       "    <tr style=\"text-align: right;\">\n",
       "      <th></th>\n",
       "      <th>UBE2T</th>\n",
       "      <th>BIRC5</th>\n",
       "      <th>NUF2</th>\n",
       "      <th>CDC6</th>\n",
       "      <th>CCNB1</th>\n",
       "      <th>TYMS</th>\n",
       "      <th>MYBL2</th>\n",
       "      <th>CEP55</th>\n",
       "      <th>MELK</th>\n",
       "      <th>NDC80</th>\n",
       "      <th>...</th>\n",
       "      <th>NAT1</th>\n",
       "      <th>FOXA1</th>\n",
       "      <th>BLVRA</th>\n",
       "      <th>MMP11</th>\n",
       "      <th>GPR160</th>\n",
       "      <th>FGFR4</th>\n",
       "      <th>GRB7</th>\n",
       "      <th>TMEM45B</th>\n",
       "      <th>ERBB2</th>\n",
       "      <th>Subtype</th>\n",
       "    </tr>\n",
       "  </thead>\n",
       "  <tbody>\n",
       "    <tr>\n",
       "      <td>TCGA-A1-A0SD-01A</td>\n",
       "      <td>3.016158</td>\n",
       "      <td>2.514871</td>\n",
       "      <td>1.509129</td>\n",
       "      <td>1.354016</td>\n",
       "      <td>3.685035</td>\n",
       "      <td>2.125453</td>\n",
       "      <td>3.047474</td>\n",
       "      <td>2.333704</td>\n",
       "      <td>1.996853</td>\n",
       "      <td>1.171520</td>\n",
       "      <td>...</td>\n",
       "      <td>4.905805</td>\n",
       "      <td>6.677118</td>\n",
       "      <td>5.044878</td>\n",
       "      <td>5.631087</td>\n",
       "      <td>3.942169</td>\n",
       "      <td>3.404177</td>\n",
       "      <td>3.655783</td>\n",
       "      <td>2.757977</td>\n",
       "      <td>5.999041</td>\n",
       "      <td>Luminal A</td>\n",
       "    </tr>\n",
       "    <tr>\n",
       "      <td>TCGA-A1-A0SE-01A</td>\n",
       "      <td>4.626989</td>\n",
       "      <td>3.289047</td>\n",
       "      <td>2.102190</td>\n",
       "      <td>2.116975</td>\n",
       "      <td>4.525954</td>\n",
       "      <td>2.906470</td>\n",
       "      <td>3.798966</td>\n",
       "      <td>2.745027</td>\n",
       "      <td>2.451070</td>\n",
       "      <td>2.070499</td>\n",
       "      <td>...</td>\n",
       "      <td>6.053451</td>\n",
       "      <td>6.690114</td>\n",
       "      <td>5.843557</td>\n",
       "      <td>5.504526</td>\n",
       "      <td>3.881691</td>\n",
       "      <td>1.038253</td>\n",
       "      <td>3.156081</td>\n",
       "      <td>1.355837</td>\n",
       "      <td>5.585759</td>\n",
       "      <td>Luminal A</td>\n",
       "    </tr>\n",
       "    <tr>\n",
       "      <td>TCGA-A1-A0SF-01A</td>\n",
       "      <td>3.417782</td>\n",
       "      <td>2.262844</td>\n",
       "      <td>1.569301</td>\n",
       "      <td>1.800667</td>\n",
       "      <td>3.823694</td>\n",
       "      <td>2.843952</td>\n",
       "      <td>3.807282</td>\n",
       "      <td>2.141323</td>\n",
       "      <td>2.082400</td>\n",
       "      <td>1.693568</td>\n",
       "      <td>...</td>\n",
       "      <td>6.883599</td>\n",
       "      <td>6.280921</td>\n",
       "      <td>5.705410</td>\n",
       "      <td>3.511572</td>\n",
       "      <td>4.374803</td>\n",
       "      <td>2.299735</td>\n",
       "      <td>3.054917</td>\n",
       "      <td>1.315680</td>\n",
       "      <td>5.215699</td>\n",
       "      <td>Luminal A</td>\n",
       "    </tr>\n",
       "  </tbody>\n",
       "</table>\n",
       "<p>3 rows × 51 columns</p>\n",
       "</div>"
      ],
      "text/plain": [
       "                     UBE2T     BIRC5      NUF2      CDC6     CCNB1      TYMS  \\\n",
       "TCGA-A1-A0SD-01A  3.016158  2.514871  1.509129  1.354016  3.685035  2.125453   \n",
       "TCGA-A1-A0SE-01A  4.626989  3.289047  2.102190  2.116975  4.525954  2.906470   \n",
       "TCGA-A1-A0SF-01A  3.417782  2.262844  1.569301  1.800667  3.823694  2.843952   \n",
       "\n",
       "                     MYBL2     CEP55      MELK     NDC80  ...      NAT1  \\\n",
       "TCGA-A1-A0SD-01A  3.047474  2.333704  1.996853  1.171520  ...  4.905805   \n",
       "TCGA-A1-A0SE-01A  3.798966  2.745027  2.451070  2.070499  ...  6.053451   \n",
       "TCGA-A1-A0SF-01A  3.807282  2.141323  2.082400  1.693568  ...  6.883599   \n",
       "\n",
       "                     FOXA1     BLVRA     MMP11    GPR160     FGFR4      GRB7  \\\n",
       "TCGA-A1-A0SD-01A  6.677118  5.044878  5.631087  3.942169  3.404177  3.655783   \n",
       "TCGA-A1-A0SE-01A  6.690114  5.843557  5.504526  3.881691  1.038253  3.156081   \n",
       "TCGA-A1-A0SF-01A  6.280921  5.705410  3.511572  4.374803  2.299735  3.054917   \n",
       "\n",
       "                   TMEM45B     ERBB2    Subtype  \n",
       "TCGA-A1-A0SD-01A  2.757977  5.999041  Luminal A  \n",
       "TCGA-A1-A0SE-01A  1.355837  5.585759  Luminal A  \n",
       "TCGA-A1-A0SF-01A  1.315680  5.215699  Luminal A  \n",
       "\n",
       "[3 rows x 51 columns]"
      ]
     },
     "execution_count": 29,
     "metadata": {},
     "output_type": "execute_result"
    }
   ],
   "source": [
    "df.head(3)"
   ]
  },
  {
   "cell_type": "code",
   "execution_count": 30,
   "metadata": {},
   "outputs": [],
   "source": [
    "X_train, X_test, y_train, y_test = train_test_split(X, y, stratify=y, random_state=17)\n",
    "model = SVC(kernel=\"linear\")\n",
    "\n",
    "model.fit(X_train, y_train)\n",
    "y_pred = model.predict(X_test)"
   ]
  },
  {
   "cell_type": "code",
   "execution_count": 31,
   "metadata": {},
   "outputs": [
    {
     "name": "stdout",
     "output_type": "stream",
     "text": [
      "The accuracy score is 0.9194630872483222\n",
      "The balanced accuracy score is 0.9056563951034191\n",
      "[[97  6]\n",
      " [ 6 40]]\n"
     ]
    }
   ],
   "source": [
    "print('The accuracy score is', accuracy_score(y_test, y_pred))\n",
    "print('The balanced accuracy score is', balanced_accuracy_score(y_test, y_pred))\n",
    "\n",
    "print(confusion_matrix(y_test, y_pred))"
   ]
  },
  {
   "cell_type": "code",
   "execution_count": 15,
   "metadata": {},
   "outputs": [
    {
     "name": "stdout",
     "output_type": "stream",
     "text": [
      "TPR 0.941747572815534 \n",
      " TNR 0.8695652173913043\n"
     ]
    }
   ],
   "source": [
    "matr = confusion_matrix(y_test, y_pred)\n",
    "TPR = matr[0, 0] / (matr[0, 0] + matr[0, 1])\n",
    "TNR = matr[1, 1] / (matr[1, 0] + matr[1, 1])\n",
    "print('TPR', TPR, '\\n', 'TNR', TNR)"
   ]
  },
  {
   "cell_type": "code",
   "execution_count": 16,
   "metadata": {},
   "outputs": [
    {
     "data": {
      "text/plain": [
       "[<matplotlib.lines.Line2D at 0x164b7b2c088>]"
      ]
     },
     "execution_count": 16,
     "metadata": {},
     "output_type": "execute_result"
    },
    {
     "data": {
      "image/png": "[encoded data removed]",
      "text/plain": [
       "<Figure size 432x288 with 1 Axes>"
      ]
     },
     "metadata": {
      "needs_background": "light"
     },
     "output_type": "display_data"
    }
   ],
   "source": [
    "plot_roc_curve(model, X_test, y_test)\n",
    "plt.plot(1 - TPR, TNR, \"x\", c=\"red\")"
   ]
  },
  {
   "cell_type": "code",
   "execution_count": 17,
   "metadata": {},
   "outputs": [
    {
     "name": "stdout",
     "output_type": "stream",
     "text": [
      "['BIRC5', 'ACTR3B', 'UBE2C', 'UBE2T', 'RRM2', 'SLC39A6', 'TYMS', 'MELK', 'CENPF', 'PTTG1', 'MYBL2', 'BLVRA', 'CDC6', 'CDC20', 'NUF2', 'ORC6', 'KRT5', 'CCNE1', 'MLPH', 'ANLN', 'EXO1', 'CDH3', 'CEP55', 'CCNB1', 'FOXA1', 'PGR', 'GPR160', 'KIF2C', 'MKI67', 'ESR1', 'TMEM45B', 'GRB7', 'NAT1', 'ERBB2', 'MMP11', 'MYC', 'EGFR', 'MAPT', 'NDC80', 'KRT14', 'SFRP1', 'PHGDH', 'FGFR4', 'BCL2', 'MDM2', 'FOXC1', 'CXXC5', 'KRT17', 'MIA', 'BAG1']\n"
     ]
    }
   ],
   "source": [
    "df=df.T.iloc[:-1,:]\n",
    "df['coef']=model.coef_[0]\n",
    "df=df.sort_values('coef',ascending=False)\n",
    "print(df.index.tolist())"
   ]
  },
  {
   "cell_type": "code",
   "execution_count": 32,
   "metadata": {},
   "outputs": [
    {
     "name": "stdout",
     "output_type": "stream",
     "text": [
      "The accuracy score is 0.8389261744966443\n",
      "The balanced accuracy score is 0.7932672013507809\n",
      "[[94  9]\n",
      " [15 31]]\n",
      "TPR 0.912621359223301 \n",
      " TNR 0.6739130434782609\n"
     ]
    },
    {
     "data": {
      "text/plain": [
       "[<matplotlib.lines.Line2D at 0x164b8abaf48>]"
      ]
     },
     "execution_count": 32,
     "metadata": {},
     "output_type": "execute_result"
    },
    {
     "data": {
      "image/png": "[encoded data removed]",
      "text/plain": [
       "<Figure size 432x288 with 1 Axes>"
      ]
     },
     "metadata": {
      "needs_background": "light"
     },
     "output_type": "display_data"
    }
   ],
   "source": [
    "df = pd.read_csv(\"BRCA_pam50.tsv\", sep=\"\\t\", index_col=0)\n",
    "df = df.loc[df[\"Subtype\"].isin([\"Luminal A\", \"Luminal B\"]),['BIRC5','ACTR3B','UBE2C','UBE2T','RRM2','Subtype']]\n",
    "X = df.iloc[:, :-1].to_numpy()\n",
    "y = df.loc[:,\"Subtype\"].to_numpy()\n",
    "\n",
    "X_train, X_test, y_train, y_test = train_test_split(X, y, stratify=y, random_state=17)\n",
    "model = SVC(kernel=\"linear\")\n",
    "\n",
    "model.fit(X_train, y_train)\n",
    "y_pred = model.predict(X_test)\n",
    "\n",
    "print('The accuracy score is', accuracy_score(y_test, y_pred))\n",
    "print('The balanced accuracy score is', balanced_accuracy_score(y_test, y_pred))\n",
    "\n",
    "print(confusion_matrix(y_test, y_pred))\n",
    "\n",
    "matr = confusion_matrix(y_test, y_pred)\n",
    "TPR = matr[0, 0] / (matr[0, 0] + matr[0, 1])\n",
    "TNR = matr[1, 1] / (matr[1, 0] + matr[1, 1])\n",
    "print('TPR', TPR, '\\n', 'TNR', TNR)\n",
    "\n",
    "\n",
    "plot_roc_curve(model, X_test, y_test)\n",
    "plt.plot(1 - TPR, TNR, \"x\", c=\"red\")"
   ]
  },
  {
   "cell_type": "markdown",
   "metadata": {},
   "source": [
    "Все показатели ухудшились, что и не удивительно, поскольку обучали не на полной выборке, а лишь на топ-5."
   ]
  },
  {
   "cell_type": "markdown",
   "metadata": {},
   "source": [
    "### Problem 4"
   ]
  },
  {
   "cell_type": "code",
   "execution_count": 33,
   "metadata": {},
   "outputs": [
    {
     "name": "stdout",
     "output_type": "stream",
     "text": [
      "The accuracy score is 0.9126637554585153\n",
      "The balanced accuracy score is 0.7822173561277613\n",
      "[[15  0  0  1  0  0]\n",
      " [ 0 25  0  0  0  0]\n",
      " [ 0  0 98  5  0  0]\n",
      " [ 0  0  9 37  0  0]\n",
      " [ 0  1  3  0  0  1]\n",
      " [ 0  0  0  0  0 34]]\n"
     ]
    }
   ],
   "source": [
    "df = pd.read_csv(\"BRCA_pam50.tsv\", sep=\"\\t\", index_col=0)\n",
    "X = df.iloc[:, :-1].to_numpy()\n",
    "y = df.loc[:,\"Subtype\"].to_numpy()\n",
    "\n",
    "X_train, X_test, y_train, y_test = train_test_split(X, y, stratify=y, random_state=17)\n",
    "model = SVC(kernel=\"linear\")\n",
    "\n",
    "model.fit(X_train, y_train)\n",
    "y_pred = model.predict(X_test)\n",
    "\n",
    "print('The accuracy score is', accuracy_score(y_test, y_pred))\n",
    "print('The balanced accuracy score is', balanced_accuracy_score(y_test, y_pred))\n",
    "\n",
    "M = confusion_matrix(y_test, y_pred)\n",
    "print(M)"
   ]
  },
  {
   "cell_type": "code",
   "execution_count": 34,
   "metadata": {},
   "outputs": [
    {
     "name": "stdout",
     "output_type": "stream",
     "text": [
      "The accuracy score is 0.8253275109170306\n",
      "The balanced accuracy score is 0.6794233522873059\n",
      "[[ 8  0  0  8  0  0]\n",
      " [ 0 20  4  0  1  0]\n",
      " [ 1  0 96  6  0  0]\n",
      " [ 1  0 14 31  0  0]\n",
      " [ 1  0  3  0  1  0]\n",
      " [ 1  0  0  0  0 33]]\n"
     ]
    }
   ],
   "source": [
    "from sklearn.decomposition import PCA\n",
    "\n",
    "df = pd.read_csv(\"BRCA_pam50.tsv\", sep=\"\\t\", index_col=0)\n",
    "X = df.iloc[:, :-1].to_numpy()\n",
    "y = df.loc[:,\"Subtype\"].to_numpy()\n",
    "\n",
    "pca = PCA(n_components=2)\n",
    "X = pca.fit_transform(X)\n",
    "\n",
    "X_train, X_test, y_train, y_test = train_test_split(X, y, stratify=y, random_state=17)\n",
    "model = SVC(kernel=\"linear\")\n",
    "\n",
    "model.fit(X_train, y_train)\n",
    "y_pred = model.predict(X_test)\n",
    "\n",
    "print('The accuracy score is', accuracy_score(y_test, y_pred))\n",
    "print('The balanced accuracy score is', balanced_accuracy_score(y_test, y_pred))\n",
    "\n",
    "M = confusion_matrix(y_test, y_pred)\n",
    "print(M)"
   ]
  },
  {
   "cell_type": "markdown",
   "metadata": {},
   "source": [
    "### Problem 5"
   ]
  },
  {
   "cell_type": "code",
   "execution_count": 35,
   "metadata": {},
   "outputs": [
    {
     "name": "stdout",
     "output_type": "stream",
     "text": [
      "Time: --- 0.02692556381225586 seconds ---\n",
      "The accuracy score is 1.0\n",
      "The balanced accuracy score is 1.0\n",
      "[[2500    0]\n",
      " [   0 2500]]\n",
      "1.0 1.0\n"
     ]
    },
    {
     "data": {
      "text/plain": [
       "[<matplotlib.lines.Line2D at 0x164c5945888>]"
      ]
     },
     "execution_count": 35,
     "metadata": {},
     "output_type": "execute_result"
    },
    {
     "data": {
      "image/png": "[encoded data removed]",
      "text/plain": [
       "<Figure size 432x288 with 1 Axes>"
      ]
     },
     "metadata": {
      "needs_background": "light"
     },
     "output_type": "display_data"
    }
   ],
   "source": [
    "np.random.seed(17)\n",
    "\n",
    "N = 10000\n",
    "sample1_X1 = np.random.normal(loc=0, size=(N, 1))\n",
    "sample1_X2 = np.random.normal(loc=0, size=(N, 1))\n",
    "sample2_X1 = np.random.normal(loc=10, size=(N, 1))\n",
    "sample2_X2 = np.random.normal(loc=10, size=(N, 1))\n",
    "\n",
    "X1=[]\n",
    "for i in sample1_X1:\n",
    "    X1.append(float(i))\n",
    "for i in sample2_X1:\n",
    "    X1.append(float(i))\n",
    "X2=[]\n",
    "for i in sample1_X2:\n",
    "    X2.append(float(i))\n",
    "for i in sample2_X2:\n",
    "    X2.append(float(i))\n",
    "    \n",
    "X = pd.DataFrame({\n",
    "    'X1': X1,\n",
    "    'X2': X2\n",
    "})\n",
    "\n",
    "X = X.to_numpy()\n",
    "y = np.array([0]*N + [1]*N)\n",
    "\n",
    "X_train, X_test, y_train, y_test = train_test_split(X, y, stratify=y, random_state=17)\n",
    "model = SVC(kernel=\"linear\")\n",
    "\n",
    "import time\n",
    "start_time = time.time()\n",
    "\n",
    "model.fit(X_train, y_train)\n",
    "y_pred = model.predict(X_test)\n",
    "\n",
    "print('Time:', \"--- %s seconds ---\" % (time.time() - start_time))\n",
    "\n",
    "print('The accuracy score is', accuracy_score(y_test, y_pred))\n",
    "print('The balanced accuracy score is', balanced_accuracy_score(y_test, y_pred))\n",
    "\n",
    "M = confusion_matrix(y_test, y_pred)\n",
    "print(M)\n",
    "\n",
    "TPR = M[0, 0] / (M[0, 0] + M[0, 1])\n",
    "TNR = M[1, 1] / (M[1, 0] + M[1, 1])\n",
    "print(TPR, TNR)\n",
    "\n",
    "plot_roc_curve(model, X_test, y_test)\n",
    "plt.plot(1 - TPR, TNR, \"x\", c=\"red\")"
   ]
  },
  {
   "cell_type": "code",
   "execution_count": 36,
   "metadata": {},
   "outputs": [
    {
     "name": "stdout",
     "output_type": "stream",
     "text": [
      "Time: --- 26.860628366470337 seconds ---\n",
      "The accuracy score is 0.4934\n",
      "The balanced accuracy score is 0.49339999999999995\n",
      "[[1271 1229]\n",
      " [1304 1196]]\n",
      "0.5084 0.4784\n"
     ]
    },
    {
     "data": {
      "text/plain": [
       "[<matplotlib.lines.Line2D at 0x164c59bd648>]"
      ]
     },
     "execution_count": 36,
     "metadata": {},
     "output_type": "execute_result"
    },
    {
     "data": {
      "image/png": "[encoded data removed]",
      "text/plain": [
       "<Figure size 432x288 with 1 Axes>"
      ]
     },
     "metadata": {
      "needs_background": "light"
     },
     "output_type": "display_data"
    }
   ],
   "source": [
    "# TPR, TNR\n",
    "np.random.seed(17)\n",
    "\n",
    "N = 10000\n",
    "sample1_X1 = np.random.normal(loc=0, size=(N, 1))\n",
    "sample1_X2 = np.random.normal(loc=0, size=(N, 1))\n",
    "sample2_X1 = np.random.normal(loc=0, size=(N, 1))\n",
    "sample2_X2 = np.random.normal(loc=0, size=(N, 1))\n",
    "\n",
    "X1=[]\n",
    "for i in sample1_X1:\n",
    "    X1.append(float(i))\n",
    "for i in sample2_X1:\n",
    "    X1.append(float(i))\n",
    "X2=[]\n",
    "for i in sample1_X2:\n",
    "    X2.append(float(i))\n",
    "for i in sample2_X2:\n",
    "    X2.append(float(i))\n",
    "    \n",
    "X = pd.DataFrame({\n",
    "    'X1': X1,\n",
    "    'X2': X2\n",
    "})\n",
    "\n",
    "X = X.to_numpy()\n",
    "y = np.array([0]*N + [1]*N)\n",
    "\n",
    "X_train, X_test, y_train, y_test = train_test_split(X, y, stratify=y, random_state=17)\n",
    "model = SVC(kernel=\"linear\")\n",
    "\n",
    "import time\n",
    "start_time = time.time()\n",
    "\n",
    "model.fit(X_train, y_train)\n",
    "y_pred = model.predict(X_test)\n",
    "\n",
    "print('Time:', \"--- %s seconds ---\" % (time.time() - start_time))\n",
    "\n",
    "print('The accuracy score is', accuracy_score(y_test, y_pred))\n",
    "print('The balanced accuracy score is', balanced_accuracy_score(y_test, y_pred))\n",
    "\n",
    "M = confusion_matrix(y_test, y_pred)\n",
    "print(M)\n",
    "\n",
    "TPR = M[0, 0] / (M[0, 0] + M[0, 1])\n",
    "TNR = M[1, 1] / (M[1, 0] + M[1, 1])\n",
    "print(TPR, TNR)\n",
    "\n",
    "plot_roc_curve(model, X_test, y_test)\n",
    "plt.plot(1 - TPR, TNR, \"x\", c=\"red\")"
   ]
  }
 ],
 "metadata": {
  "kernelspec": {
   "display_name": "Python 3",
   "language": "python",
   "name": "python3"
  },
  "language_info": {
   "codemirror_mode": {
    "name": "ipython",
    "version": 3
   },
   "file_extension": ".py",
   "mimetype": "text/x-python",
   "name": "python",
   "nbconvert_exporter": "python",
   "pygments_lexer": "ipython3",
   "version": "3.7.4"
  }
 },
 "nbformat": 4,
 "nbformat_minor": 2
}

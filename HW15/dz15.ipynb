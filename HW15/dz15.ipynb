{
 "cells": [
  {
   "cell_type": "markdown",
   "metadata": {},
   "source": [
    "### Problem 1 "
   ]
  },
  {
   "cell_type": "code",
   "execution_count": 7,
   "metadata": {},
   "outputs": [],
   "source": [
    "import pandas as pd\n",
    "import numpy as np\n",
    "\n",
    "import seaborn as sns\n",
    "import matplotlib.pyplot as plt\n",
    "\n",
    "from sklearn.pipeline import Pipeline\n",
    "from sklearn.preprocessing import StandardScaler\n",
    "from sklearn.neighbors import KNeighborsClassifier\n",
    "\n",
    "from sklearn.model_selection import train_test_split\n",
    "from sklearn.metrics import accuracy_score"
   ]
  },
  {
   "cell_type": "code",
   "execution_count": 3,
   "metadata": {},
   "outputs": [
    {
     "data": {
      "text/html": [
       "<div>\n",
       "<style scoped>\n",
       "    .dataframe tbody tr th:only-of-type {\n",
       "        vertical-align: middle;\n",
       "    }\n",
       "\n",
       "    .dataframe tbody tr th {\n",
       "        vertical-align: top;\n",
       "    }\n",
       "\n",
       "    .dataframe thead th {\n",
       "        text-align: right;\n",
       "    }\n",
       "</style>\n",
       "<table border=\"1\" class=\"dataframe\">\n",
       "  <thead>\n",
       "    <tr style=\"text-align: right;\">\n",
       "      <th></th>\n",
       "      <th>UBE2T</th>\n",
       "      <th>BIRC5</th>\n",
       "      <th>NUF2</th>\n",
       "      <th>CDC6</th>\n",
       "      <th>CCNB1</th>\n",
       "      <th>TYMS</th>\n",
       "      <th>MYBL2</th>\n",
       "      <th>CEP55</th>\n",
       "      <th>MELK</th>\n",
       "      <th>NDC80</th>\n",
       "      <th>...</th>\n",
       "      <th>NAT1</th>\n",
       "      <th>FOXA1</th>\n",
       "      <th>BLVRA</th>\n",
       "      <th>MMP11</th>\n",
       "      <th>GPR160</th>\n",
       "      <th>FGFR4</th>\n",
       "      <th>GRB7</th>\n",
       "      <th>TMEM45B</th>\n",
       "      <th>ERBB2</th>\n",
       "      <th>Subtype</th>\n",
       "    </tr>\n",
       "  </thead>\n",
       "  <tbody>\n",
       "    <tr>\n",
       "      <td>TCGA-A1-A0SB-01A</td>\n",
       "      <td>2.507502</td>\n",
       "      <td>2.172270</td>\n",
       "      <td>0.952906</td>\n",
       "      <td>1.683162</td>\n",
       "      <td>3.108067</td>\n",
       "      <td>3.332448</td>\n",
       "      <td>2.982268</td>\n",
       "      <td>1.613604</td>\n",
       "      <td>1.641565</td>\n",
       "      <td>1.218495</td>\n",
       "      <td>...</td>\n",
       "      <td>0.926850</td>\n",
       "      <td>2.869065</td>\n",
       "      <td>3.896839</td>\n",
       "      <td>1.387963</td>\n",
       "      <td>1.141875</td>\n",
       "      <td>0.544443</td>\n",
       "      <td>2.942855</td>\n",
       "      <td>0.875017</td>\n",
       "      <td>5.014075</td>\n",
       "      <td>Normal-like</td>\n",
       "    </tr>\n",
       "    <tr>\n",
       "      <td>TCGA-A1-A0SD-01A</td>\n",
       "      <td>3.016158</td>\n",
       "      <td>2.514871</td>\n",
       "      <td>1.509129</td>\n",
       "      <td>1.354016</td>\n",
       "      <td>3.685035</td>\n",
       "      <td>2.125453</td>\n",
       "      <td>3.047474</td>\n",
       "      <td>2.333704</td>\n",
       "      <td>1.996853</td>\n",
       "      <td>1.171520</td>\n",
       "      <td>...</td>\n",
       "      <td>4.905805</td>\n",
       "      <td>6.677118</td>\n",
       "      <td>5.044878</td>\n",
       "      <td>5.631087</td>\n",
       "      <td>3.942169</td>\n",
       "      <td>3.404177</td>\n",
       "      <td>3.655783</td>\n",
       "      <td>2.757977</td>\n",
       "      <td>5.999041</td>\n",
       "      <td>Luminal A</td>\n",
       "    </tr>\n",
       "    <tr>\n",
       "      <td>TCGA-A1-A0SE-01A</td>\n",
       "      <td>4.626989</td>\n",
       "      <td>3.289047</td>\n",
       "      <td>2.102190</td>\n",
       "      <td>2.116975</td>\n",
       "      <td>4.525954</td>\n",
       "      <td>2.906470</td>\n",
       "      <td>3.798966</td>\n",
       "      <td>2.745027</td>\n",
       "      <td>2.451070</td>\n",
       "      <td>2.070499</td>\n",
       "      <td>...</td>\n",
       "      <td>6.053451</td>\n",
       "      <td>6.690114</td>\n",
       "      <td>5.843557</td>\n",
       "      <td>5.504526</td>\n",
       "      <td>3.881691</td>\n",
       "      <td>1.038253</td>\n",
       "      <td>3.156081</td>\n",
       "      <td>1.355837</td>\n",
       "      <td>5.585759</td>\n",
       "      <td>Luminal A</td>\n",
       "    </tr>\n",
       "  </tbody>\n",
       "</table>\n",
       "<p>3 rows × 51 columns</p>\n",
       "</div>"
      ],
      "text/plain": [
       "                     UBE2T     BIRC5      NUF2      CDC6     CCNB1      TYMS  \\\n",
       "TCGA-A1-A0SB-01A  2.507502  2.172270  0.952906  1.683162  3.108067  3.332448   \n",
       "TCGA-A1-A0SD-01A  3.016158  2.514871  1.509129  1.354016  3.685035  2.125453   \n",
       "TCGA-A1-A0SE-01A  4.626989  3.289047  2.102190  2.116975  4.525954  2.906470   \n",
       "\n",
       "                     MYBL2     CEP55      MELK     NDC80  ...      NAT1  \\\n",
       "TCGA-A1-A0SB-01A  2.982268  1.613604  1.641565  1.218495  ...  0.926850   \n",
       "TCGA-A1-A0SD-01A  3.047474  2.333704  1.996853  1.171520  ...  4.905805   \n",
       "TCGA-A1-A0SE-01A  3.798966  2.745027  2.451070  2.070499  ...  6.053451   \n",
       "\n",
       "                     FOXA1     BLVRA     MMP11    GPR160     FGFR4      GRB7  \\\n",
       "TCGA-A1-A0SB-01A  2.869065  3.896839  1.387963  1.141875  0.544443  2.942855   \n",
       "TCGA-A1-A0SD-01A  6.677118  5.044878  5.631087  3.942169  3.404177  3.655783   \n",
       "TCGA-A1-A0SE-01A  6.690114  5.843557  5.504526  3.881691  1.038253  3.156081   \n",
       "\n",
       "                   TMEM45B     ERBB2      Subtype  \n",
       "TCGA-A1-A0SB-01A  0.875017  5.014075  Normal-like  \n",
       "TCGA-A1-A0SD-01A  2.757977  5.999041    Luminal A  \n",
       "TCGA-A1-A0SE-01A  1.355837  5.585759    Luminal A  \n",
       "\n",
       "[3 rows x 51 columns]"
      ]
     },
     "execution_count": 3,
     "metadata": {},
     "output_type": "execute_result"
    }
   ],
   "source": [
    "brca = pd.read_csv('BRCA_pam50.tsv', index_col = 0, sep = '\\t')\n",
    "brca.head(3)"
   ]
  },
  {
   "cell_type": "code",
   "execution_count": 19,
   "metadata": {},
   "outputs": [
    {
     "data": {
      "text/plain": [
       "Luminal A          411\n",
       "Luminal B          185\n",
       "Triple-negative    134\n",
       "Healthy             99\n",
       "HER2-enriched       64\n",
       "Normal-like         22\n",
       "Name: Subtype, dtype: int64"
      ]
     },
     "execution_count": 19,
     "metadata": {},
     "output_type": "execute_result"
    }
   ],
   "source": [
    "brca['Subtype'].value_counts()\n",
    "# дисбаланс"
   ]
  },
  {
   "cell_type": "code",
   "execution_count": 5,
   "metadata": {},
   "outputs": [],
   "source": [
    "X = brca.iloc[:, :-1].to_numpy()\n",
    "y = brca[\"Subtype\"].to_numpy()"
   ]
  },
  {
   "cell_type": "code",
   "execution_count": 6,
   "metadata": {},
   "outputs": [],
   "source": [
    "X_train, X_test, y_train, y_test = train_test_split(\n",
    "    X, y, stratify=y, test_size=0.2, random_state=17\n",
    ")"
   ]
  },
  {
   "cell_type": "code",
   "execution_count": 8,
   "metadata": {},
   "outputs": [
    {
     "name": "stdout",
     "output_type": "stream",
     "text": [
      "0.8469945355191257\n"
     ]
    }
   ],
   "source": [
    "model = Pipeline([\n",
    "    (\"scaler\", StandardScaler()),\n",
    "    (\"clf\", KNeighborsClassifier(n_neighbors=1, weights=\"distance\", p=2))\n",
    "])\n",
    "\n",
    "# p=1 = manhattan_distance (l1), and euclidean_distance (l2) for p=2\n",
    "# как-то грустно и неправильно с 1 соседом делать......\n",
    "\n",
    "model.fit(X_train, y_train)\n",
    "\n",
    "y_pred = model.predict(X_test)\n",
    "print(accuracy_score(y_pred, y_test))"
   ]
  },
  {
   "cell_type": "markdown",
   "metadata": {},
   "source": [
    "### Problem 2"
   ]
  },
  {
   "cell_type": "code",
   "execution_count": 46,
   "metadata": {},
   "outputs": [
    {
     "name": "stdout",
     "output_type": "stream",
     "text": [
      "HER2-enriched 0.6923076923076923\n",
      "Healthy 0.95\n",
      "Luminal A 0.9146341463414634\n",
      "Luminal B 0.6756756756756757\n",
      "Normal-like 0.0\n",
      "Triple-negative 1.0\n"
     ]
    }
   ],
   "source": [
    "for typ in np.unique(y_test).tolist():\n",
    "    print(typ,\n",
    "        sum(y_pred[np.where(y_test == typ)] == y_test[np.where(y_test == typ)]) / len(y_test[np.where(y_test == typ)])\n",
    "    )"
   ]
  },
  {
   "cell_type": "markdown",
   "metadata": {},
   "source": [
    "Поскольку мы с самого начала выявили четкий дисбаланс классов - люминал А сильно больше - эти результаты ожидаемы. На люминал А модель показала высокую точность и это внесло бОльший вклад в общую точность. На других же классах точность небольшая, но засчет их небольшого количества, их вклад в общую точность незначительный."
   ]
  },
  {
   "cell_type": "markdown",
   "metadata": {},
   "source": [
    "### Problem 3"
   ]
  },
  {
   "cell_type": "code",
   "execution_count": 47,
   "metadata": {},
   "outputs": [
    {
     "name": "stdout",
     "output_type": "stream",
     "text": [
      "0.8633879781420765\n"
     ]
    }
   ],
   "source": [
    "from sklearn.neighbors import NearestCentroid\n",
    "\n",
    "model_centr = Pipeline([\n",
    "    (\"scaler\", StandardScaler()),\n",
    "    (\"clf\", NearestCentroid())\n",
    "])\n",
    "\n",
    "model_centr.fit(X_train, y_train)\n",
    "\n",
    "y_pred_centr = model_centr.predict(X_test)\n",
    "print(accuracy_score(y_pred_centr, y_test))"
   ]
  },
  {
   "cell_type": "code",
   "execution_count": 48,
   "metadata": {},
   "outputs": [
    {
     "name": "stdout",
     "output_type": "stream",
     "text": [
      "HER2-enriched 1.0\n",
      "Healthy 0.9\n",
      "Luminal A 0.8170731707317073\n",
      "Luminal B 0.8378378378378378\n",
      "Normal-like 0.5\n",
      "Triple-negative 1.0\n"
     ]
    }
   ],
   "source": [
    "for typ in np.unique(y_test).tolist():\n",
    "    print(typ,\n",
    "        sum(y_pred_centr[np.where(y_test == typ)] == y_test[np.where(y_test == typ)]) / len(y_test[np.where(y_test == typ)])\n",
    "    )"
   ]
  },
  {
   "cell_type": "markdown",
   "metadata": {},
   "source": [
    "Общая точность осталась примерно такая же, но точность по классам изменилась в лучшую сторону (хотя бы нет нулей...)."
   ]
  },
  {
   "cell_type": "markdown",
   "metadata": {},
   "source": [
    "### Problem 4"
   ]
  },
  {
   "cell_type": "code",
   "execution_count": 59,
   "metadata": {},
   "outputs": [
    {
     "data": {
      "image/png": "[encoded data removed]",
      "text/plain": [
       "<Figure size 432x288 with 1 Axes>"
      ]
     },
     "metadata": {
      "needs_background": "light"
     },
     "output_type": "display_data"
    }
   ],
   "source": [
    "df = pd.DataFrame({'x': [1, 1, 2], 'y': [1, 2.5, 2], 'class': [0, 1, 2]})\n",
    "\n",
    "sns.scatterplot(x = 'x', y = 'y', data = df, hue = 'class');"
   ]
  },
  {
   "cell_type": "code",
   "execution_count": 60,
   "metadata": {},
   "outputs": [
    {
     "name": "stdout",
     "output_type": "stream",
     "text": [
      "L1 \n",
      " first 1.5 \n",
      " second 2.0\n",
      "L2 \n",
      " first 1.5 \n",
      " second 1.4142135623730951\n"
     ]
    }
   ],
   "source": [
    "print('L1', '\\n', 'first', \n",
    "    df['x'][1] - df['x'][0] + df['y'][1] - df['y'][0], '\\n', 'second',\n",
    "    df['x'][2] - df['x'][0] + df['y'][2] - df['y'][0]\n",
    ")\n",
    "\n",
    "print('L2', '\\n', 'first',\n",
    "    np.sqrt((df['x'][1] - df['x'][0])**2 + (df['y'][1] - df['y'][0])**2), '\\n', 'second',\n",
    "    np.sqrt((df['x'][2] - df['x'][0])**2 + (df['y'][2] - df['y'][0])**2)\n",
    ")"
   ]
  }
 ],
 "metadata": {
  "kernelspec": {
   "display_name": "Python 3",
   "language": "python",
   "name": "python3"
  },
  "language_info": {
   "codemirror_mode": {
    "name": "ipython",
    "version": 3
   },
   "file_extension": ".py",
   "mimetype": "text/x-python",
   "name": "python",
   "nbconvert_exporter": "python",
   "pygments_lexer": "ipython3",
   "version": "3.7.4"
  }
 },
 "nbformat": 4,
 "nbformat_minor": 2
}

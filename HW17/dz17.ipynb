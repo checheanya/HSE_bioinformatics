{
 "cells": [
  {
   "cell_type": "code",
   "execution_count": 2,
   "id": "bda16f90",
   "metadata": {},
   "outputs": [],
   "source": [
    "import pandas as pd\n",
    "import numpy as np\n",
    "\n",
    "from sklearn.ensemble import RandomForestClassifier\n",
    "from sklearn.metrics import accuracy_score, balanced_accuracy_score, make_scorer\n",
    "from sklearn.model_selection import GridSearchCV, RepeatedStratifiedKFold, train_test_split"
   ]
  },
  {
   "cell_type": "markdown",
   "id": "974b23af",
   "metadata": {},
   "source": [
    "### Problem 3"
   ]
  },
  {
   "cell_type": "code",
   "execution_count": 3,
   "id": "a320d26a",
   "metadata": {},
   "outputs": [],
   "source": [
    "df = pd.read_csv('BRCA_pam50.tsv', sep='\\t', index_col=0)\n",
    "X = df.iloc[:, :-1].to_numpy()\n",
    "y = df['Subtype'].to_numpy()\n",
    "X_train, X_test, y_train, y_test = train_test_split(X, y, stratify=y, test_size=0.2, random_state=17)"
   ]
  },
  {
   "cell_type": "code",
   "execution_count": 5,
   "id": "fc433913",
   "metadata": {},
   "outputs": [],
   "source": [
    "forest = RandomForestClassifier(\n",
    "    random_state=17,\n",
    "    class_weight='balanced'\n",
    ")"
   ]
  },
  {
   "cell_type": "code",
   "execution_count": 6,
   "id": "c7c0c879",
   "metadata": {},
   "outputs": [],
   "source": [
    "params = {\n",
    "    'n_estimators': [50, 100, 150, 200],\n",
    "    'max_depth': list(range(1, 11)),\n",
    "}"
   ]
  },
  {
   "cell_type": "code",
   "execution_count": 7,
   "id": "59262476",
   "metadata": {},
   "outputs": [
    {
     "data": {
      "text/plain": [
       "GridSearchCV(cv=RepeatedStratifiedKFold(n_repeats=10, n_splits=5, random_state=None),\n",
       "             estimator=RandomForestClassifier(class_weight='balanced',\n",
       "                                              random_state=17),\n",
       "             n_jobs=-1,\n",
       "             param_grid={'max_depth': [1, 2, 3, 4, 5, 6, 7, 8, 9, 10],\n",
       "                         'n_estimators': [50, 100, 150, 200]},\n",
       "             scoring=make_scorer(balanced_accuracy_score))"
      ]
     },
     "execution_count": 7,
     "metadata": {},
     "output_type": "execute_result"
    }
   ],
   "source": [
    "grid = GridSearchCV(forest, params, scoring=make_scorer(balanced_accuracy_score), \n",
    "                   n_jobs=-1, cv=RepeatedStratifiedKFold(n_repeats=10))\n",
    "grid.fit(X_train, y_train)"
   ]
  },
  {
   "cell_type": "code",
   "execution_count": null,
   "id": "e49a5141",
   "metadata": {},
   "outputs": [],
   "source": [
    "print(clf.best_params_)\n",
    "y_pred = clf.predict(X_test)\n",
    "round(balanced_accuracy_score(y_pred, y_test), 3)"
   ]
  },
  {
   "cell_type": "code",
   "execution_count": 8,
   "id": "dde7d198",
   "metadata": {},
   "outputs": [
    {
     "name": "stdout",
     "output_type": "stream",
     "text": [
      "{'max_depth': 4, 'n_estimators': 50}\n"
     ]
    }
   ],
   "source": [
    "print(grid.best_params_)"
   ]
  },
  {
   "cell_type": "code",
   "execution_count": 9,
   "id": "47e9c99e",
   "metadata": {},
   "outputs": [],
   "source": [
    "y_pred = grid.predict(X_test)"
   ]
  },
  {
   "cell_type": "code",
   "execution_count": 10,
   "id": "b0f07afe",
   "metadata": {},
   "outputs": [
    {
     "name": "stdout",
     "output_type": "stream",
     "text": [
      "0.8884249084249085\n"
     ]
    },
    {
     "name": "stderr",
     "output_type": "stream",
     "text": [
      "C:\\Users\\Anna\\Anaconda3\\lib\\site-packages\\sklearn\\metrics\\_classification.py:1854: UserWarning: y_pred contains classes not in y_true\n",
      "  warnings.warn('y_pred contains classes not in y_true')\n"
     ]
    }
   ],
   "source": [
    "print(balanced_accuracy_score(y_pred, y_test))"
   ]
  },
  {
   "cell_type": "markdown",
   "id": "7faf5fbd",
   "metadata": {},
   "source": [
    "### Problem 4"
   ]
  },
  {
   "cell_type": "code",
   "execution_count": 108,
   "id": "58d62e54",
   "metadata": {},
   "outputs": [],
   "source": [
    "from sklearn.svm import SVC\n",
    "from sklearn.metrics import confusion_matrix, plot_roc_curve\n",
    "import matplotlib.pyplot as plt"
   ]
  },
  {
   "cell_type": "code",
   "execution_count": 109,
   "id": "3e4b493a",
   "metadata": {},
   "outputs": [],
   "source": [
    "df = pd.read_pickle('bc_data.pkl')"
   ]
  },
  {
   "cell_type": "code",
   "execution_count": 111,
   "id": "bbcd86fc",
   "metadata": {},
   "outputs": [],
   "source": [
    "ann = pd.read_pickle('bc_ann.pkl')"
   ]
  },
  {
   "cell_type": "markdown",
   "id": "a9df95c1",
   "metadata": {},
   "source": [
    "Строим первую модель (на всех генах):"
   ]
  },
  {
   "cell_type": "code",
   "execution_count": 113,
   "id": "27f9317b",
   "metadata": {},
   "outputs": [],
   "source": [
    "X_train = df.loc[ann.loc[ann[\"Dataset type\"] == \"Training\"].index].to_numpy()\n",
    "y_train = ann.loc[ann[\"Dataset type\"] == \"Training\", \"Class\"].to_numpy()\n",
    "\n",
    "X_test = df.loc[ann.loc[ann[\"Dataset type\"] == \"Validation\"].index].to_numpy()\n",
    "y_test = ann.loc[ann[\"Dataset type\"] == \"Validation\", \"Class\"].to_numpy()"
   ]
  },
  {
   "cell_type": "code",
   "execution_count": 114,
   "id": "b3b5d633",
   "metadata": {},
   "outputs": [],
   "source": [
    "model1 = SVC(kernel=\"linear\")\n",
    "model1.fit(X_train, y_train)\n",
    "y_pred = model1.predict(X_train)"
   ]
  },
  {
   "cell_type": "code",
   "execution_count": 115,
   "id": "369d5731",
   "metadata": {},
   "outputs": [
    {
     "name": "stdout",
     "output_type": "stream",
     "text": [
      "Balanced accuracy score on the train: 1.0\n"
     ]
    }
   ],
   "source": [
    "print(\"Balanced accuracy score on the train:\", balanced_accuracy_score(y_train, y_pred))"
   ]
  },
  {
   "cell_type": "code",
   "execution_count": 116,
   "id": "29bd49f1",
   "metadata": {},
   "outputs": [
    {
     "name": "stdout",
     "output_type": "stream",
     "text": [
      "Balanced accuracy score on the test: 0.6041666666666666\n"
     ]
    }
   ],
   "source": [
    "y_pred = model1.predict(X_test)\n",
    "print(\"Balanced accuracy score on the test:\", balanced_accuracy_score(y_test, y_pred))"
   ]
  },
  {
   "cell_type": "code",
   "execution_count": 117,
   "id": "1e7f9334",
   "metadata": {},
   "outputs": [
    {
     "name": "stdout",
     "output_type": "stream",
     "text": [
      "TPR: 0.75 \n",
      " TNR: 0.4583333333333333 \n",
      " Matrix: \n",
      " [[54 18]\n",
      " [13 11]]\n"
     ]
    }
   ],
   "source": [
    "M = confusion_matrix(y_test, y_pred)\n",
    "TPR = M[0, 0] / (M[0, 0] + M[0, 1])\n",
    "TNR = M[1, 1] / (M[1, 0] + M[1, 1])\n",
    "print('TPR:', TPR, '\\n', 'TNR:', TNR, '\\n', 'Matrix:', '\\n', M)"
   ]
  },
  {
   "cell_type": "code",
   "execution_count": 118,
   "id": "49a31373",
   "metadata": {},
   "outputs": [
    {
     "data": {
      "image/png": "[encoded data removed]",
      "text/plain": [
       "<Figure size 432x288 with 1 Axes>"
      ]
     },
     "metadata": {
      "needs_background": "light"
     },
     "output_type": "display_data"
    }
   ],
   "source": [
    "plot_roc_curve(model1, X_test, y_test)\n",
    "plt.plot(1 - TPR, TNR, \"x\", c=\"red\")\n",
    "plt.show()"
   ]
  },
  {
   "cell_type": "markdown",
   "id": "6abbf725",
   "metadata": {},
   "source": [
    "Строим вторую модель (на генах TRIP13;UBE2C;ZWINT;EPN3;KIF4A;ECHDC2;MTFR1;CX3CR1;SLC7A5;ABAT;CFAP69\n",
    "):"
   ]
  },
  {
   "cell_type": "code",
   "execution_count": 119,
   "id": "86e5d01c",
   "metadata": {},
   "outputs": [],
   "source": [
    "genes = \"TRIP13;UBE2C;ZWINT;EPN3;KIF4A;ECHDC2;MTFR1;STARD13;IGFBP6;NUMA1;CCNL2\".split(\";\")"
   ]
  },
  {
   "cell_type": "code",
   "execution_count": 120,
   "id": "7a396e40",
   "metadata": {},
   "outputs": [],
   "source": [
    "df_11 = df[genes]"
   ]
  },
  {
   "cell_type": "code",
   "execution_count": 121,
   "id": "40e4ea62",
   "metadata": {},
   "outputs": [],
   "source": [
    "X_train = df_11.loc[ann.loc[ann[\"Dataset type\"] == \"Training\"].index].to_numpy()\n",
    "y_train = ann.loc[ann[\"Dataset type\"] == \"Training\", \"Class\"].to_numpy()\n",
    "\n",
    "X_test = df_11.loc[ann.loc[ann[\"Dataset type\"] == \"Validation\"].index].to_numpy()\n",
    "y_test = ann.loc[ann[\"Dataset type\"] == \"Validation\", \"Class\"].to_numpy()"
   ]
  },
  {
   "cell_type": "code",
   "execution_count": 122,
   "id": "184ea8ed",
   "metadata": {},
   "outputs": [],
   "source": [
    "model = SVC(kernel=\"linear\")\n",
    "model.fit(X_train, y_train)\n",
    "y_pred = model.predict(X_train)"
   ]
  },
  {
   "cell_type": "code",
   "execution_count": 123,
   "id": "16f3ea1b",
   "metadata": {},
   "outputs": [
    {
     "name": "stdout",
     "output_type": "stream",
     "text": [
      "Balanced accuracy score on the train: 0.7246642246642246\n",
      "Balanced accuracy score on the test: 0.7291666666666667\n"
     ]
    }
   ],
   "source": [
    "print(\"Balanced accuracy score on the train:\", balanced_accuracy_score(y_train, y_pred))\n",
    "y_pred = model.predict(X_test)\n",
    "print(\"Balanced accuracy score on the test:\", balanced_accuracy_score(y_test, y_pred))"
   ]
  },
  {
   "cell_type": "code",
   "execution_count": 124,
   "id": "c5de5af9",
   "metadata": {},
   "outputs": [
    {
     "name": "stdout",
     "output_type": "stream",
     "text": [
      "TPR: 0.75 \n",
      " TNR: 0.7083333333333334 \n",
      " Matrix: \n",
      " [[54 18]\n",
      " [ 7 17]]\n"
     ]
    }
   ],
   "source": [
    "M = confusion_matrix(y_test, y_pred)\n",
    "TPR = M[0, 0] / (M[0, 0] + M[0, 1])\n",
    "TNR = M[1, 1] / (M[1, 0] + M[1, 1])\n",
    "print('TPR:', TPR, '\\n', 'TNR:', TNR, '\\n', 'Matrix:', '\\n', M)"
   ]
  },
  {
   "cell_type": "code",
   "execution_count": 125,
   "id": "77881676",
   "metadata": {},
   "outputs": [
    {
     "data": {
      "image/png": "[encoded data removed]",
      "text/plain": [
       "<Figure size 432x288 with 1 Axes>"
      ]
     },
     "metadata": {
      "needs_background": "light"
     },
     "output_type": "display_data"
    }
   ],
   "source": [
    "plot_roc_curve(model, X_test, y_test)\n",
    "plt.plot(1 - TPR, TNR, \"x\", c=\"red\")\n",
    "plt.show()"
   ]
  },
  {
   "cell_type": "markdown",
   "id": "98661e83",
   "metadata": {},
   "source": [
    "- у второй модели выше TNR - по матрице видно, что стало больше TN\n",
    "- меньше точность на тренировочной выборке, но больше на тестовой\n",
    "- AUC кривая лучше (ближе к 0;1)\n",
    "- Вероятно, эти результаты связаны с тем, что эти гены вносят наибольший вклад, тогда как остальные не изменяются в зависимости от класса. Это можно проверить, посмотрев коэффециенты первой модели:"
   ]
  },
  {
   "cell_type": "code",
   "execution_count": 128,
   "id": "2dec0946",
   "metadata": {},
   "outputs": [],
   "source": [
    "df = df.T\n",
    "df['coef'] = model1.coef_[0]\n",
    "df = df.sort_values('coef', ascending = False)"
   ]
  },
  {
   "cell_type": "code",
   "execution_count": 131,
   "id": "65e5fab4",
   "metadata": {},
   "outputs": [
    {
     "name": "stdout",
     "output_type": "stream",
     "text": [
      "['TCN1', 'SYT1', 'NELL2', 'AGR2', 'OPRPN', 'CST5', 'TNC', 'S100P', 'CHI3L1', 'PPAT', 'NKX3-1', 'CEACAM6', 'MMP9', 'NLRP2', 'HOXC10', 'PEG10', 'DNAJC1', 'SCGB1D2', 'ENPP1', 'SPP1']\n"
     ]
    }
   ],
   "source": [
    "print(df.index.tolist()[:20])"
   ]
  },
  {
   "cell_type": "code",
   "execution_count": 130,
   "id": "bcd2ede0",
   "metadata": {},
   "outputs": [
    {
     "data": {
      "text/plain": [
       "['TRIP13',\n",
       " 'UBE2C',\n",
       " 'ZWINT',\n",
       " 'EPN3',\n",
       " 'KIF4A',\n",
       " 'ECHDC2',\n",
       " 'MTFR1',\n",
       " 'STARD13',\n",
       " 'IGFBP6',\n",
       " 'NUMA1',\n",
       " 'CCNL2']"
      ]
     },
     "execution_count": 130,
     "metadata": {},
     "output_type": "execute_result"
    }
   ],
   "source": [
    "genes"
   ]
  },
  {
   "cell_type": "markdown",
   "id": "db30f96d",
   "metadata": {},
   "source": [
    "Гипотеза 2: как было сказано на семинаре, для этих генов показано, что они не изменяются в зависимости от бэтча - больницы/пациента/лаборанта, поэтому по ним лучше предсказывается"
   ]
  },
  {
   "cell_type": "markdown",
   "id": "0184ecfe",
   "metadata": {},
   "source": [
    "### Problem 5"
   ]
  },
  {
   "cell_type": "code",
   "execution_count": 134,
   "id": "cd0476f0",
   "metadata": {},
   "outputs": [],
   "source": [
    "from scipy.stats import ttest_ind\n",
    "\n",
    "df = pd.read_csv('bc_data.csv', index_col=0)\n",
    "ann = pd.read_csv('bc_ann.csv', index_col=0)\n",
    "\n",
    "df_val = df.loc[ann.loc[ann[\"Dataset type\"] == \"Validation\"].index]\n",
    "df_tr = df.loc[ann.loc[ann[\"Dataset type\"] == \"Training\"].index]"
   ]
  },
  {
   "cell_type": "code",
   "execution_count": 135,
   "id": "7bb4a8fe",
   "metadata": {},
   "outputs": [],
   "source": [
    "genes = []\n",
    "for gene in df.columns:\n",
    "    t = ttest_ind(df_val[gene], df_tr[gene])[1]\n",
    "    if t < 0.05:\n",
    "        genes.append(gene)"
   ]
  },
  {
   "cell_type": "code",
   "execution_count": 139,
   "id": "e1bb4f6d",
   "metadata": {},
   "outputs": [
    {
     "name": "stdout",
     "output_type": "stream",
     "text": [
      "The ratio is 0.6004895645452203\n"
     ]
    }
   ],
   "source": [
    "print(\"The ratio is\", len(genes)/len(df.columns))"
   ]
  }
 ],
 "metadata": {
  "kernelspec": {
   "display_name": "Python 3",
   "language": "python",
   "name": "python3"
  },
  "language_info": {
   "codemirror_mode": {
    "name": "ipython",
    "version": 3
   },
   "file_extension": ".py",
   "mimetype": "text/x-python",
   "name": "python",
   "nbconvert_exporter": "python",
   "pygments_lexer": "ipython3",
   "version": "3.7.4"
  }
 },
 "nbformat": 4,
 "nbformat_minor": 5
}

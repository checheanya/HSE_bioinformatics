{
 "cells": [
  {
   "cell_type": "markdown",
   "metadata": {},
   "source": [
    "##  Problem 1"
   ]
  },
  {
   "cell_type": "code",
   "execution_count": 1,
   "metadata": {},
   "outputs": [],
   "source": [
    "import pandas as pd\n",
    "import numpy as np\n",
    "import seaborn as sns\n",
    "import matplotlib.pyplot as plt"
   ]
  },
  {
   "cell_type": "code",
   "execution_count": 3,
   "metadata": {},
   "outputs": [],
   "source": [
    "gng = pd.read_csv(\"GNG4_exons.tsv\", sep=\"\\t\", index_col=0, header=None, usecols=[3,4])\n",
    "spr = pd.read_csv(\"SPRR4_exons.tsv\", sep=\"\\t\", index_col=0, header=None, usecols=[3,4])"
   ]
  },
  {
   "cell_type": "code",
   "execution_count": 4,
   "metadata": {},
   "outputs": [
    {
     "ename": "TypeError",
     "evalue": "sort_values() got an unexpected keyword argument 'ignore_index'",
     "output_type": "error",
     "traceback": [
      "\u001b[1;31m---------------------------------------------------------------------------\u001b[0m",
      "\u001b[1;31mTypeError\u001b[0m                                 Traceback (most recent call last)",
      "\u001b[1;32m<ipython-input-4-a64a598d6ff0>\u001b[0m in \u001b[0;36m<module>\u001b[1;34m\u001b[0m\n\u001b[0;32m      1\u001b[0m \u001b[0mgng\u001b[0m\u001b[1;33m.\u001b[0m\u001b[0mreset_index\u001b[0m\u001b[1;33m(\u001b[0m\u001b[0minplace\u001b[0m\u001b[1;33m=\u001b[0m\u001b[1;32mTrue\u001b[0m\u001b[1;33m)\u001b[0m\u001b[1;33m\u001b[0m\u001b[1;33m\u001b[0m\u001b[0m\n\u001b[0;32m      2\u001b[0m \u001b[0mgng\u001b[0m \u001b[1;33m=\u001b[0m \u001b[0mgng\u001b[0m\u001b[1;33m.\u001b[0m\u001b[0mrename\u001b[0m\u001b[1;33m(\u001b[0m\u001b[0mcolumns\u001b[0m\u001b[1;33m=\u001b[0m\u001b[1;33m{\u001b[0m\u001b[1;36m3\u001b[0m\u001b[1;33m:\u001b[0m \u001b[1;34m\"start\"\u001b[0m\u001b[1;33m,\u001b[0m \u001b[1;36m4\u001b[0m\u001b[1;33m:\u001b[0m \u001b[1;34m\"end\"\u001b[0m\u001b[1;33m}\u001b[0m\u001b[1;33m)\u001b[0m\u001b[1;33m\u001b[0m\u001b[1;33m\u001b[0m\u001b[0m\n\u001b[1;32m----> 3\u001b[1;33m \u001b[0mgng\u001b[0m \u001b[1;33m=\u001b[0m \u001b[0mgng\u001b[0m\u001b[1;33m.\u001b[0m\u001b[0msort_values\u001b[0m\u001b[1;33m(\u001b[0m\u001b[0mby\u001b[0m\u001b[1;33m=\u001b[0m\u001b[1;34m'start'\u001b[0m\u001b[1;33m,\u001b[0m \u001b[0mignore_index\u001b[0m\u001b[1;33m=\u001b[0m\u001b[1;32mTrue\u001b[0m\u001b[1;33m)\u001b[0m\u001b[1;33m\u001b[0m\u001b[1;33m\u001b[0m\u001b[0m\n\u001b[0m\u001b[0;32m      4\u001b[0m \u001b[0mspr\u001b[0m\u001b[1;33m.\u001b[0m\u001b[0mreset_index\u001b[0m\u001b[1;33m(\u001b[0m\u001b[0minplace\u001b[0m\u001b[1;33m=\u001b[0m\u001b[1;32mTrue\u001b[0m\u001b[1;33m)\u001b[0m\u001b[1;33m\u001b[0m\u001b[1;33m\u001b[0m\u001b[0m\n\u001b[0;32m      5\u001b[0m \u001b[0mspr\u001b[0m \u001b[1;33m=\u001b[0m \u001b[0mspr\u001b[0m\u001b[1;33m.\u001b[0m\u001b[0mrename\u001b[0m\u001b[1;33m(\u001b[0m\u001b[0mcolumns\u001b[0m\u001b[1;33m=\u001b[0m\u001b[1;33m{\u001b[0m\u001b[1;36m3\u001b[0m\u001b[1;33m:\u001b[0m \u001b[1;34m\"start\"\u001b[0m\u001b[1;33m,\u001b[0m \u001b[1;36m4\u001b[0m\u001b[1;33m:\u001b[0m \u001b[1;34m\"end\"\u001b[0m\u001b[1;33m}\u001b[0m\u001b[1;33m)\u001b[0m\u001b[1;33m\u001b[0m\u001b[1;33m\u001b[0m\u001b[0m\n",
      "\u001b[1;31mTypeError\u001b[0m: sort_values() got an unexpected keyword argument 'ignore_index'"
     ]
    }
   ],
   "source": [
    "gng.reset_index(inplace=True)\n",
    "gng = gng.rename(columns={3: \"start\", 4: \"end\"})\n",
    "gng = gng.sort_values(by='start', ignore_index=True)\n",
    "spr.reset_index(inplace=True)\n",
    "spr = spr.rename(columns={3: \"start\", 4: \"end\"})\n",
    "spr.sort_values(by='start', inplace=True, ignore_index=True)"
   ]
  },
  {
   "cell_type": "code",
   "execution_count": 16,
   "metadata": {},
   "outputs": [
    {
     "name": "stdout",
     "output_type": "stream",
     "text": [
      "The exon lenght of GNG4 gene is 5395\n"
     ]
    }
   ],
   "source": [
    "length = gng['end'][0] - gng['start'][0]\n",
    "for i in range(1,17):\n",
    "    if gng['end'][i-1] > gng['start'][i]:\n",
    "        length += gng['end'][i] - gng['start'][i] - (gng['end'][i-1] - gng['start'][i])\n",
    "    else:\n",
    "        length += gng['end'][i] - gng['start'][i]\n",
    "print(\"The exon lenght of GNG4 gene is\", length)"
   ]
  },
  {
   "cell_type": "code",
   "execution_count": 17,
   "metadata": {},
   "outputs": [
    {
     "name": "stdout",
     "output_type": "stream",
     "text": [
      "731\n"
     ]
    }
   ],
   "source": [
    "length = spr['end'][0] - spr['start'][0]\n",
    "for i in range(1,2):\n",
    "    if spr['end'][i-1] > spr['start'][i]:\n",
    "        length += spr['end'][i] - spr['start'][i] - (spr['end'][i-1] - spr['start'][i])\n",
    "    else:\n",
    "        length += spr['end'][i] - spr['start'][i]\n",
    "print(length)"
   ]
  },
  {
   "cell_type": "markdown",
   "metadata": {},
   "source": [
    "## Problem 2"
   ]
  },
  {
   "cell_type": "code",
   "execution_count": 18,
   "metadata": {},
   "outputs": [],
   "source": [
    "df = pd.read_csv(\"./homework/TCGA-COAD_cancer_normal.tsv\", sep=\"\\t\", index_col=0)\n",
    "df = df.loc[df.min(axis=1) > 0] #фильтр на 0 гены\n",
    "df[\"Pseudo-sample\"] = 2**((np.log2(df)).mean(axis=1)) #среднеарифмет для лг и обр квадрат\n",
    "df = df.div(df[\"Pseudo-sample\"], axis=0) #делим столбцы\n",
    "a = list(df.median(axis=0))"
   ]
  },
  {
   "cell_type": "code",
   "execution_count": 19,
   "metadata": {},
   "outputs": [
    {
     "name": "stdout",
     "output_type": "stream",
     "text": [
      "[0.3521965641887188, 0.39439086144751867, 0.7305734402506029, 1.6613807884976428, 1.6000283761172207, 1.48313615756963, 1.2804697093264523, 0.9243427405663928, 1.593067989583141, 1.3499769758243512, 1.0]\n",
      "                              TCGA-A6-2682-01A  TCGA-A6-2683-01A  \\\n",
      "Gene                                                               \n",
      "A1CF                                  0.250286          0.134040   \n",
      "A2M                                   0.141030          0.134129   \n",
      "A2M-AS1                               0.228552          0.114276   \n",
      "A4GALT                                0.445143          0.123000   \n",
      "AAAS                                  0.492967          0.717372   \n",
      "...                                        ...               ...   \n",
      "ZYX                                   0.491470          0.727319   \n",
      "ZZEF1                                 0.120634          0.353902   \n",
      "ZZZ3                                  0.467076          0.270950   \n",
      "chr22-38_28785274-29006793.1          0.297660          0.667920   \n",
      "pk                                    0.348059          0.379996   \n",
      "\n",
      "                              TCGA-A6-2685-01A  TCGA-A6-2686-01A  \\\n",
      "Gene                                                               \n",
      "A1CF                                  0.283499          0.816099   \n",
      "A2M                                   1.335152          1.143467   \n",
      "A2M-AS1                               0.685655          0.685655   \n",
      "A4GALT                                1.408643          3.113072   \n",
      "AAAS                                  0.644260          1.362356   \n",
      "...                                        ...               ...   \n",
      "ZYX                                   1.323296          1.781257   \n",
      "ZZEF1                                 0.381101          0.979470   \n",
      "ZZZ3                                  0.434199          2.511101   \n",
      "chr22-38_28785274-29006793.1          1.401180          1.139820   \n",
      "pk                                    0.541991          1.258938   \n",
      "\n",
      "                              TCGA-A6-5662-01A  TCGA-A6-5667-11A  \\\n",
      "Gene                                                               \n",
      "A1CF                                  1.888415          3.588226   \n",
      "A2M                                   0.814875          1.867884   \n",
      "A2M-AS1                               2.171240          1.218942   \n",
      "A4GALT                                0.462714          1.273929   \n",
      "AAAS                                  2.160080          1.295758   \n",
      "...                                        ...               ...   \n",
      "ZYX                                   1.621670          0.796520   \n",
      "ZZEF1                                 1.148742          4.260584   \n",
      "ZZZ3                                  1.767407          1.286727   \n",
      "chr22-38_28785274-29006793.1          1.488300          1.931160   \n",
      "pk                                    1.827312          0.845155   \n",
      "\n",
      "                              TCGA-AA-3489-11A  TCGA-AA-3496-11A  \\\n",
      "Gene                                                               \n",
      "A1CF                                  0.971490          1.416311   \n",
      "A2M                                   1.832795          2.805612   \n",
      "A2M-AS1                               5.523329          4.571031   \n",
      "A4GALT                                2.257929          2.079286   \n",
      "AAAS                                  0.870837          0.710134   \n",
      "...                                        ...               ...   \n",
      "ZYX                                   1.229573          1.287091   \n",
      "ZZEF1                                 0.724443          1.217218   \n",
      "ZZZ3                                  1.527067          1.091734   \n",
      "chr22-38_28785274-29006793.1          0.609840          0.776820   \n",
      "pk                                    4.490985          3.549558   \n",
      "\n",
      "                              TCGA-AA-3511-11A  TCGA-AA-3514-11A  \\\n",
      "Gene                                                               \n",
      "A1CF                                  3.509937          3.936966   \n",
      "A2M                                   2.041814          2.166772   \n",
      "A2M-AS1                               1.599861          0.761838   \n",
      "A4GALT                                1.765929          0.852215   \n",
      "AAAS                                  1.339192          1.389864   \n",
      "...                                        ...               ...   \n",
      "ZYX                                   0.725521          0.800243   \n",
      "ZZEF1                                 3.439186          4.227626   \n",
      "ZZZ3                                  1.644970          1.162022   \n",
      "chr22-38_28785274-29006793.1          2.003760          1.154340   \n",
      "pk                                    0.672051          0.669737   \n",
      "\n",
      "                              Pseudo-sample  \n",
      "Gene                                         \n",
      "A1CF                                    1.0  \n",
      "A2M                                     1.0  \n",
      "A2M-AS1                                 1.0  \n",
      "A4GALT                                  1.0  \n",
      "AAAS                                    1.0  \n",
      "...                                     ...  \n",
      "ZYX                                     1.0  \n",
      "ZZEF1                                   1.0  \n",
      "ZZZ3                                    1.0  \n",
      "chr22-38_28785274-29006793.1            1.0  \n",
      "pk                                      1.0  \n",
      "\n",
      "[19013 rows x 11 columns]\n"
     ]
    }
   ],
   "source": [
    "print(a)\n",
    "print(df)"
   ]
  },
  {
   "cell_type": "markdown",
   "metadata": {},
   "source": [
    "## Problem 3"
   ]
  },
  {
   "cell_type": "code",
   "execution_count": 20,
   "metadata": {},
   "outputs": [
    {
     "data": {
      "image/png": "[encoded data removed]",
      "text/plain": [
       "<Figure size 432x288 with 1 Axes>"
      ]
     },
     "metadata": {
      "needs_background": "light"
     },
     "output_type": "display_data"
    }
   ],
   "source": [
    "df = df.melt(var_name=\"Sample\", value_name=\"Coeff\") #сбор столбцов в 2\n",
    "#print(df)\n",
    "estimator=np.median #значение будет равно медиане\n",
    "sns.barplot(data=df, x=\"Sample\", y=\"Coeff\")\n",
    "plt.xticks(rotation=90) # просто название столбцов перевернули\n",
    "plt.tight_layout()\n",
    "plt.savefig(\"task2.pdf\")"
   ]
  },
  {
   "cell_type": "markdown",
   "metadata": {},
   "source": [
    "## Problem 4"
   ]
  },
  {
   "cell_type": "code",
   "execution_count": 17,
   "metadata": {},
   "outputs": [],
   "source": [
    "gl = pd.read_csv(\"gene_lengths.tsv\", sep=\"\\t\", index_col=0)\n",
    "df = pd.read_csv(\"TCGA-COAD_cancer_normal.tsv\", sep=\"\\t\", index_col=0)"
   ]
  },
  {
   "cell_type": "code",
   "execution_count": 18,
   "metadata": {},
   "outputs": [],
   "source": [
    "RPM = df.div(df.sum(axis=0) / 10**6, axis=1)\n",
    "RPKM = RPM.div(gl[\"Length\"] / 10**3, axis=0)"
   ]
  },
  {
   "cell_type": "code",
   "execution_count": 19,
   "metadata": {},
   "outputs": [],
   "source": [
    "# сохраняем таблицы без нормализации\n",
    "dfwn = df\n",
    "RPKMwn = RPKM\n",
    "\n",
    "# с нормализацией (без изменений)\n",
    "size_factors = [0.35219656, 0.39439086, 0.73057344, 1.66138079, 1.60002838, 1.48313616, 1.28046971, 0.92434274, 1.59306799, 1.34997698]\n",
    "RPKM = RPKM.div(size_factors, axis=1) # делим на нормированные коэффициенты\n",
    "\n",
    "#отброс низкоэкспрессируемых генов с помощью медианы\n",
    "df = np.log2(RPKM + 1)\n",
    "df = df.loc[df.max(axis=1) > 0]\n",
    "df[\"median\"] = df.median(axis=1)\n",
    "df = df.sort_values(\"median\", ascending=False)\n",
    "df = df.iloc[:len(df)//2]\n",
    "\n",
    "df[\"LFC\"] = df.iloc[:, 0:5].mean(axis=1) - df.iloc[:, 5:10].mean(axis=1) #fold change\n",
    "df[\"absLFC\"] = np.abs(df[\"LFC\"])\n",
    "df = df.sort_values(\"absLFC\", ascending=False)\n",
    "a = list(df[\"absLFC\"].head(100).index)"
   ]
  },
  {
   "cell_type": "code",
   "execution_count": 20,
   "metadata": {},
   "outputs": [
    {
     "name": "stdout",
     "output_type": "stream",
     "text": [
      "['TMIGD1', 'IGHJ3P', 'PLAC8', 'FOXQ1', 'GUCA2B', 'NXPE4', 'GDF15', 'CA7', 'ANPEP', 'CHGA', 'TGFBI', 'CLCA4', 'CA4', 'MMP11', 'SPP1', 'UGT2A3', 'GCG', 'SST', 'MMP7', 'PYY', 'SULT2B1', 'IGHA2', 'KRT23', 'AQP8', 'KRT8P36', 'VSIG2', 'MS4A12', 'SLC4A4', 'AZGP1', 'OTOP2', 'INSL5', 'HOXB8', 'GUCA2A', 'KRT80', 'TRIB3', 'KLK10', 'CA1', 'ADH1C', 'MT1E', 'CST1', 'UGT2B17', 'TACSTD2', 'BEST4', 'CDH3', 'ZG16', 'MT1H', 'GYLTL1B', 'SLC26A2', 'CA2', 'SLC26A3', 'MT1G', 'ETV4', 'CLCA1', 'IGJ', 'MT1M', 'ITLN1', 'RP11-329L6.2', 'PLA2G2A', 'CD177', 'CPNE7', 'GRIN2D', 'CLDN1', 'CEACAM7', 'CEMIP', 'FABP6', 'DPEP1', 'TESC']\n"
     ]
    }
   ],
   "source": [
    "# тоже сакмое но без нормировочного коэф, не делим на size factors\n",
    "RPKM_1 = RPM.div(gl[\"Length\"] / 10**3, axis=0)\n",
    "\n",
    "dfwn = np.log2(RPKM_1 + 1)\n",
    "dfwn = dfwn.loc[dfwn.max(axis=1) > 0]\n",
    "dfwn[\"median\"] = dfwn.median(axis=1)\n",
    "dfwn = dfwn.sort_values(\"median\", ascending=False)\n",
    "dfwn = dfwn.iloc[:len(dfwn)//2]\n",
    "\n",
    "dfwn[\"LFC_1\"] = dfwn.iloc[:, 0:5].mean(axis=1) - dfwn.iloc[:, 5:10].mean(axis=1)\n",
    "dfwn[\"absLFC_1\"] = np.abs(dfwn[\"LFC_1\"])\n",
    "dfwn = dfwn.sort_values(\"absLFC_1\", ascending=False)\n",
    "b = list(dfwn[\"absLFC_1\"].head(100).index)\n",
    "\n",
    "# пересечение\n",
    "n = list(set(a).intersection(set(b)))\n",
    "print(n)"
   ]
  },
  {
   "cell_type": "markdown",
   "metadata": {},
   "source": [
    "Рисуем график:"
   ]
  },
  {
   "cell_type": "code",
   "execution_count": 24,
   "metadata": {},
   "outputs": [],
   "source": [
    "import seaborn as sns\n",
    "from matplotlib import rcParams"
   ]
  },
  {
   "cell_type": "code",
   "execution_count": 25,
   "metadata": {},
   "outputs": [],
   "source": [
    "idf = pd.DataFrame({\"normalized\": [], \"without norm\": []})\n",
    "idf = idf.T\n",
    "for i in n:\n",
    "    idf.loc['normalized', i] = df.loc[i, 'LFC']\n",
    "    idf.loc[\"without norm\", i] = dfwn.loc[i, \"LFC_1\"]\n",
    "idf = idf.T"
   ]
  },
  {
   "cell_type": "code",
   "execution_count": 27,
   "metadata": {},
   "outputs": [
    {
     "data": {
      "image/png": "[encoded data removed]",
      "text/plain": [
       "<Figure size 432x288 with 1 Axes>"
      ]
     },
     "metadata": {
      "needs_background": "light"
     },
     "output_type": "display_data"
    }
   ],
   "source": [
    "g = sns.scatterplot(data = idf, x=\"normalized\", y=\"without norm\", palette = 'icefire', hue = 'normalized')\n",
    "g.legend().set_visible(False)\n",
    "rcParams['lines.markersize'] = 8\n",
    "rcParams['lines.markersize'] = 15\n",
    "rcParams['lines.markersize'] = 15\n",
    "\n",
    "plt.show()"
   ]
  },
  {
   "cell_type": "markdown",
   "metadata": {},
   "source": [
    "## Problem 5"
   ]
  },
  {
   "cell_type": "code",
   "execution_count": 31,
   "metadata": {},
   "outputs": [],
   "source": [
    "gl = pd.read_csv(\"gene_lengths.tsv\", sep=\"\\t\", index_col=0)\n",
    "df = pd.read_csv(\"TCGA-COAD_cancer_normal.tsv\", sep=\"\\t\", index_col=0)"
   ]
  },
  {
   "cell_type": "code",
   "execution_count": 32,
   "metadata": {},
   "outputs": [],
   "source": [
    "RPM = df.div(df.sum(axis=0) / 10**6, axis=1)\n",
    "RPKM = RPM.div(gl[\"Length\"] / 10**3, axis=0)"
   ]
  },
  {
   "cell_type": "code",
   "execution_count": 33,
   "metadata": {},
   "outputs": [],
   "source": [
    "size_factors = [0.35219656, 0.39439086, 0.73057344, 1.66138079, 1.60002838, 1.48313616, 1.28046971, 0.92434274, 1.59306799, 1.34997698]\n",
    "RPKM = RPKM.div(size_factors, axis=1) # делим на нормированные коэффициенты"
   ]
  },
  {
   "cell_type": "code",
   "execution_count": 34,
   "metadata": {},
   "outputs": [],
   "source": [
    "df = np.log2(RPKM_1 + 1)\n",
    "df = df.loc[df.max(axis=1) > 0]\n",
    "df[\"median\"] = df.median(axis=1)\n",
    "df = df.sort_values(\"median\", ascending=False)\n",
    "df = df.iloc[:len(df)//2]"
   ]
  },
  {
   "cell_type": "code",
   "execution_count": 35,
   "metadata": {
    "scrolled": true
   },
   "outputs": [
    {
     "name": "stdout",
     "output_type": "stream",
     "text": [
      "Index(['TMEM233', 'HEATR4', 'SPATA1', 'RP11-274H2.3', 'ZMYND10',\n",
      "       'CTD-2192J16.20', 'NPM1P24', 'SLC9B1', 'RTEL1', 'ANO2'],\n",
      "      dtype='object', name='Gene')\n"
     ]
    },
    {
     "data": {
      "text/html": [
       "<div>\n",
       "<style scoped>\n",
       "    .dataframe tbody tr th:only-of-type {\n",
       "        vertical-align: middle;\n",
       "    }\n",
       "\n",
       "    .dataframe tbody tr th {\n",
       "        vertical-align: top;\n",
       "    }\n",
       "\n",
       "    .dataframe thead th {\n",
       "        text-align: right;\n",
       "    }\n",
       "</style>\n",
       "<table border=\"1\" class=\"dataframe\">\n",
       "  <thead>\n",
       "    <tr style=\"text-align: right;\">\n",
       "      <th></th>\n",
       "      <th>TCGA-A6-2682-01A</th>\n",
       "      <th>TCGA-A6-2683-01A</th>\n",
       "      <th>TCGA-A6-2685-01A</th>\n",
       "      <th>TCGA-A6-2686-01A</th>\n",
       "      <th>TCGA-A6-5662-01A</th>\n",
       "      <th>TCGA-A6-5667-11A</th>\n",
       "      <th>TCGA-AA-3489-11A</th>\n",
       "      <th>TCGA-AA-3496-11A</th>\n",
       "      <th>TCGA-AA-3511-11A</th>\n",
       "      <th>TCGA-AA-3514-11A</th>\n",
       "      <th>median</th>\n",
       "      <th>variance</th>\n",
       "    </tr>\n",
       "    <tr>\n",
       "      <th>Gene</th>\n",
       "      <th></th>\n",
       "      <th></th>\n",
       "      <th></th>\n",
       "      <th></th>\n",
       "      <th></th>\n",
       "      <th></th>\n",
       "      <th></th>\n",
       "      <th></th>\n",
       "      <th></th>\n",
       "      <th></th>\n",
       "      <th></th>\n",
       "      <th></th>\n",
       "    </tr>\n",
       "  </thead>\n",
       "  <tbody>\n",
       "    <tr>\n",
       "      <td>TMEM233</td>\n",
       "      <td>0.153053</td>\n",
       "      <td>0.128474</td>\n",
       "      <td>0.165807</td>\n",
       "      <td>0.164779</td>\n",
       "      <td>0.192661</td>\n",
       "      <td>0.160984</td>\n",
       "      <td>0.132719</td>\n",
       "      <td>0.140362</td>\n",
       "      <td>0.115629</td>\n",
       "      <td>0.094656</td>\n",
       "      <td>0.146708</td>\n",
       "      <td>0.000726</td>\n",
       "    </tr>\n",
       "    <tr>\n",
       "      <td>HEATR4</td>\n",
       "      <td>0.170542</td>\n",
       "      <td>0.217150</td>\n",
       "      <td>0.203794</td>\n",
       "      <td>0.198563</td>\n",
       "      <td>0.127271</td>\n",
       "      <td>0.228442</td>\n",
       "      <td>0.122531</td>\n",
       "      <td>0.136569</td>\n",
       "      <td>0.235752</td>\n",
       "      <td>0.116996</td>\n",
       "      <td>0.184553</td>\n",
       "      <td>0.001959</td>\n",
       "    </tr>\n",
       "    <tr>\n",
       "      <td>SPATA1</td>\n",
       "      <td>0.162690</td>\n",
       "      <td>0.110324</td>\n",
       "      <td>0.065142</td>\n",
       "      <td>0.231284</td>\n",
       "      <td>0.100353</td>\n",
       "      <td>0.203002</td>\n",
       "      <td>0.155544</td>\n",
       "      <td>0.166154</td>\n",
       "      <td>0.171174</td>\n",
       "      <td>0.132819</td>\n",
       "      <td>0.159117</td>\n",
       "      <td>0.002185</td>\n",
       "    </tr>\n",
       "    <tr>\n",
       "      <td>RP11-274H2.3</td>\n",
       "      <td>0.168840</td>\n",
       "      <td>0.096098</td>\n",
       "      <td>0.163620</td>\n",
       "      <td>0.079312</td>\n",
       "      <td>0.194187</td>\n",
       "      <td>0.158858</td>\n",
       "      <td>0.091908</td>\n",
       "      <td>0.183989</td>\n",
       "      <td>0.118290</td>\n",
       "      <td>0.233299</td>\n",
       "      <td>0.161239</td>\n",
       "      <td>0.002293</td>\n",
       "    </tr>\n",
       "    <tr>\n",
       "      <td>ZMYND10</td>\n",
       "      <td>0.178545</td>\n",
       "      <td>0.212080</td>\n",
       "      <td>0.145605</td>\n",
       "      <td>0.220219</td>\n",
       "      <td>0.085633</td>\n",
       "      <td>0.161397</td>\n",
       "      <td>0.097339</td>\n",
       "      <td>0.100529</td>\n",
       "      <td>0.171117</td>\n",
       "      <td>0.086895</td>\n",
       "      <td>0.153501</td>\n",
       "      <td>0.002338</td>\n",
       "    </tr>\n",
       "    <tr>\n",
       "      <td>CTD-2192J16.20</td>\n",
       "      <td>0.183025</td>\n",
       "      <td>0.253107</td>\n",
       "      <td>0.223031</td>\n",
       "      <td>0.193662</td>\n",
       "      <td>0.214693</td>\n",
       "      <td>0.112396</td>\n",
       "      <td>0.089093</td>\n",
       "      <td>0.164461</td>\n",
       "      <td>0.220946</td>\n",
       "      <td>0.207642</td>\n",
       "      <td>0.200652</td>\n",
       "      <td>0.002373</td>\n",
       "    </tr>\n",
       "    <tr>\n",
       "      <td>NPM1P24</td>\n",
       "      <td>0.135485</td>\n",
       "      <td>0.149585</td>\n",
       "      <td>0.067117</td>\n",
       "      <td>0.210223</td>\n",
       "      <td>0.156091</td>\n",
       "      <td>0.032917</td>\n",
       "      <td>0.176855</td>\n",
       "      <td>0.147793</td>\n",
       "      <td>0.124797</td>\n",
       "      <td>0.162614</td>\n",
       "      <td>0.148689</td>\n",
       "      <td>0.002411</td>\n",
       "    </tr>\n",
       "    <tr>\n",
       "      <td>SLC9B1</td>\n",
       "      <td>0.122614</td>\n",
       "      <td>0.069306</td>\n",
       "      <td>0.210774</td>\n",
       "      <td>0.207620</td>\n",
       "      <td>0.202863</td>\n",
       "      <td>0.151715</td>\n",
       "      <td>0.209963</td>\n",
       "      <td>0.189511</td>\n",
       "      <td>0.139798</td>\n",
       "      <td>0.083679</td>\n",
       "      <td>0.170613</td>\n",
       "      <td>0.002596</td>\n",
       "    </tr>\n",
       "    <tr>\n",
       "      <td>RTEL1</td>\n",
       "      <td>0.216007</td>\n",
       "      <td>0.315425</td>\n",
       "      <td>0.270162</td>\n",
       "      <td>0.210470</td>\n",
       "      <td>0.340068</td>\n",
       "      <td>0.233301</td>\n",
       "      <td>0.179191</td>\n",
       "      <td>0.201811</td>\n",
       "      <td>0.241107</td>\n",
       "      <td>0.184482</td>\n",
       "      <td>0.224654</td>\n",
       "      <td>0.002634</td>\n",
       "    </tr>\n",
       "    <tr>\n",
       "      <td>ANO2</td>\n",
       "      <td>0.116946</td>\n",
       "      <td>0.066046</td>\n",
       "      <td>0.218287</td>\n",
       "      <td>0.123906</td>\n",
       "      <td>0.064507</td>\n",
       "      <td>0.149067</td>\n",
       "      <td>0.214502</td>\n",
       "      <td>0.206867</td>\n",
       "      <td>0.150259</td>\n",
       "      <td>0.151656</td>\n",
       "      <td>0.149663</td>\n",
       "      <td>0.002805</td>\n",
       "    </tr>\n",
       "  </tbody>\n",
       "</table>\n",
       "</div>"
      ],
      "text/plain": [
       "                TCGA-A6-2682-01A  TCGA-A6-2683-01A  TCGA-A6-2685-01A  \\\n",
       "Gene                                                                   \n",
       "TMEM233                 0.153053          0.128474          0.165807   \n",
       "HEATR4                  0.170542          0.217150          0.203794   \n",
       "SPATA1                  0.162690          0.110324          0.065142   \n",
       "RP11-274H2.3            0.168840          0.096098          0.163620   \n",
       "ZMYND10                 0.178545          0.212080          0.145605   \n",
       "CTD-2192J16.20          0.183025          0.253107          0.223031   \n",
       "NPM1P24                 0.135485          0.149585          0.067117   \n",
       "SLC9B1                  0.122614          0.069306          0.210774   \n",
       "RTEL1                   0.216007          0.315425          0.270162   \n",
       "ANO2                    0.116946          0.066046          0.218287   \n",
       "\n",
       "                TCGA-A6-2686-01A  TCGA-A6-5662-01A  TCGA-A6-5667-11A  \\\n",
       "Gene                                                                   \n",
       "TMEM233                 0.164779          0.192661          0.160984   \n",
       "HEATR4                  0.198563          0.127271          0.228442   \n",
       "SPATA1                  0.231284          0.100353          0.203002   \n",
       "RP11-274H2.3            0.079312          0.194187          0.158858   \n",
       "ZMYND10                 0.220219          0.085633          0.161397   \n",
       "CTD-2192J16.20          0.193662          0.214693          0.112396   \n",
       "NPM1P24                 0.210223          0.156091          0.032917   \n",
       "SLC9B1                  0.207620          0.202863          0.151715   \n",
       "RTEL1                   0.210470          0.340068          0.233301   \n",
       "ANO2                    0.123906          0.064507          0.149067   \n",
       "\n",
       "                TCGA-AA-3489-11A  TCGA-AA-3496-11A  TCGA-AA-3511-11A  \\\n",
       "Gene                                                                   \n",
       "TMEM233                 0.132719          0.140362          0.115629   \n",
       "HEATR4                  0.122531          0.136569          0.235752   \n",
       "SPATA1                  0.155544          0.166154          0.171174   \n",
       "RP11-274H2.3            0.091908          0.183989          0.118290   \n",
       "ZMYND10                 0.097339          0.100529          0.171117   \n",
       "CTD-2192J16.20          0.089093          0.164461          0.220946   \n",
       "NPM1P24                 0.176855          0.147793          0.124797   \n",
       "SLC9B1                  0.209963          0.189511          0.139798   \n",
       "RTEL1                   0.179191          0.201811          0.241107   \n",
       "ANO2                    0.214502          0.206867          0.150259   \n",
       "\n",
       "                TCGA-AA-3514-11A    median  variance  \n",
       "Gene                                                  \n",
       "TMEM233                 0.094656  0.146708  0.000726  \n",
       "HEATR4                  0.116996  0.184553  0.001959  \n",
       "SPATA1                  0.132819  0.159117  0.002185  \n",
       "RP11-274H2.3            0.233299  0.161239  0.002293  \n",
       "ZMYND10                 0.086895  0.153501  0.002338  \n",
       "CTD-2192J16.20          0.207642  0.200652  0.002373  \n",
       "NPM1P24                 0.162614  0.148689  0.002411  \n",
       "SLC9B1                  0.083679  0.170613  0.002596  \n",
       "RTEL1                   0.184482  0.224654  0.002634  \n",
       "ANO2                    0.151656  0.149663  0.002805  "
      ]
     },
     "execution_count": 35,
     "metadata": {},
     "output_type": "execute_result"
    }
   ],
   "source": [
    "# новая часть\n",
    "df['variance'] = np.var(df.iloc[:, :len(df.columns)-1], axis=1)\n",
    "df = df.sort_values('variance')\n",
    "print((df.iloc[:10]).index)\n",
    "df.head(10)"
   ]
  },
  {
   "cell_type": "code",
   "execution_count": null,
   "metadata": {},
   "outputs": [],
   "source": []
  }
 ],
 "metadata": {
  "kernelspec": {
   "display_name": "Python 3",
   "language": "python",
   "name": "python3"
  },
  "language_info": {
   "codemirror_mode": {
    "name": "ipython",
    "version": 3
   },
   "file_extension": ".py",
   "mimetype": "text/x-python",
   "name": "python",
   "nbconvert_exporter": "python",
   "pygments_lexer": "ipython3",
   "version": "3.7.4"
  }
 },
 "nbformat": 4,
 "nbformat_minor": 4
}

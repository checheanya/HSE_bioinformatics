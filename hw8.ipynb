{
 "cells": [
  {
   "cell_type": "code",
   "execution_count": 56,
   "metadata": {},
   "outputs": [],
   "source": [
    "import pandas as pd\n",
    "import seaborn as sns\n",
    "import matplotlib.pyplot as ptl\n",
    "import numpy as np\n",
    "from scipy.stats import powerlaw\n",
    "import random"
   ]
  },
  {
   "cell_type": "markdown",
   "metadata": {},
   "source": [
    "## Problem 1 "
   ]
  },
  {
   "cell_type": "code",
   "execution_count": 57,
   "metadata": {},
   "outputs": [
    {
     "name": "stdout",
     "output_type": "stream",
     "text": [
      "1.2020564036593433\n"
     ]
    }
   ],
   "source": [
    "sum = 0\n",
    "for k in range(1,1001):\n",
    "    sum += 1/(k**3)\n",
    "print(sum)\n",
    "s = sum"
   ]
  },
  {
   "cell_type": "code",
   "execution_count": 58,
   "metadata": {},
   "outputs": [
    {
     "data": {
      "text/plain": [
       "<matplotlib.axes._subplots.AxesSubplot at 0x21153bf1208>"
      ]
     },
     "execution_count": 58,
     "metadata": {},
     "output_type": "execute_result"
    },
    {
     "data": {
      "image/png": "[encoded data removed]",
      "text/plain": [
       "<Figure size 432x288 with 1 Axes>"
      ]
     },
     "metadata": {
      "needs_background": "light"
     },
     "output_type": "display_data"
    }
   ],
   "source": [
    "df = pd.DataFrame({\n",
    "    \"k\": list(range(1, 11)),\n",
    "    \"PDF\": [((1/k**3)/s) for k in range(1, 11)]\n",
    "})\n",
    "sns.barplot(data=df, x=\"k\", y=\"PDF\")"
   ]
  },
  {
   "cell_type": "markdown",
   "metadata": {},
   "source": [
    "## Problem 2"
   ]
  },
  {
   "cell_type": "markdown",
   "metadata": {},
   "source": [
    "Игральная кость независимо бросается два раза, 𝑋 — сумма выпавших значений.\n",
    "Найти распределение 𝑋 (множество возможных значений и соответствующие вероятности)."
   ]
  },
  {
   "cell_type": "code",
   "execution_count": 63,
   "metadata": {},
   "outputs": [
    {
     "name": "stdout",
     "output_type": "stream",
     "text": [
      "2\t0.028\n",
      "3\t0.056\n",
      "4\t0.083\n",
      "5\t0.111\n",
      "6\t0.139\n",
      "7\t0.167\n",
      "8\t0.139\n",
      "9\t0.111\n",
      "10\t0.083\n",
      "11\t0.056\n",
      "12\t0.028\n"
     ]
    }
   ],
   "source": [
    "s = []\n",
    "for i in range(1,7):\n",
    "    for j in range(1,7):\n",
    "        s.append(i + j)\n",
    "\n",
    "for number in set(s):\n",
    "    print(number, round(s.count(number)/len(s), 3), sep='\\t')"
   ]
  },
  {
   "cell_type": "markdown",
   "metadata": {},
   "source": [
    "## Problem 3"
   ]
  },
  {
   "cell_type": "code",
   "execution_count": 64,
   "metadata": {},
   "outputs": [
    {
     "name": "stdout",
     "output_type": "stream",
     "text": [
      "     k   freq\n",
      "0    2  0.041\n",
      "1    3  0.059\n",
      "2    4  0.080\n",
      "3    5  0.105\n",
      "4    6  0.147\n",
      "5    7  0.175\n",
      "6    8  0.137\n",
      "7    9  0.120\n",
      "8   10  0.074\n",
      "9   11  0.038\n",
      "10  12  0.024\n"
     ]
    },
    {
     "data": {
      "text/plain": [
       "<matplotlib.axes._subplots.AxesSubplot at 0x21153633cc8>"
      ]
     },
     "execution_count": 64,
     "metadata": {},
     "output_type": "execute_result"
    },
    {
     "data": {
      "image/png": "[encoded data removed]",
      "text/plain": [
       "<Figure size 432x288 with 1 Axes>"
      ]
     },
     "metadata": {
      "needs_background": "light"
     },
     "output_type": "display_data"
    }
   ],
   "source": [
    "rd = [1,2,3,4,5,6]\n",
    "values = []\n",
    "\n",
    "for i in range(1000):\n",
    "    sample = random.choice(rd) + random.choice(rd)\n",
    "    values.append(sample)\n",
    "\n",
    "df = pd.DataFrame({\n",
    "    \"k\": [k for k in set(s)],\n",
    "    \"freq\": [values.count(k)/1000 for k in set(s)]\n",
    "})\n",
    "\n",
    "print(df)\n",
    "sns.barplot(data=df, x=\"k\", y=\"freq\")"
   ]
  },
  {
   "cell_type": "markdown",
   "metadata": {},
   "source": [
    "## Problem 4"
   ]
  },
  {
   "cell_type": "markdown",
   "metadata": {},
   "source": [
    "На факультете учится 𝑛 студентов. Какова вероятность, что у\n",
    "кого-то из них день рождения совпадает с вашим? Считать, что в\n",
    "каждом году 365 дней, и дни рождения распределены равномерно.\n",
    "При каком 𝑛 эта вероятность больше 0.5?"
   ]
  },
  {
   "cell_type": "code",
   "execution_count": 59,
   "metadata": {},
   "outputs": [
    {
     "name": "stdout",
     "output_type": "stream",
     "text": [
      "253\n"
     ]
    }
   ],
   "source": [
    "import math\n",
    "\n",
    "n= 1\n",
    "k = (1 - (364/365)**n)\n",
    "while k <= 0.5:\n",
    "    n += 1\n",
    "    k = (1 - (364/365)**n)\n",
    "print(n)"
   ]
  },
  {
   "cell_type": "markdown",
   "metadata": {},
   "source": [
    "## Problem 5"
   ]
  },
  {
   "cell_type": "code",
   "execution_count": 53,
   "metadata": {},
   "outputs": [
    {
     "name": "stdout",
     "output_type": "stream",
     "text": [
      "0.5072972343239854\n"
     ]
    }
   ],
   "source": [
    "import math\n",
    "\n",
    "print(1 - math.factorial(365)/((365**23) * math.factorial(365 - 23)))"
   ]
  },
  {
   "cell_type": "code",
   "execution_count": 54,
   "metadata": {},
   "outputs": [
    {
     "name": "stdout",
     "output_type": "stream",
     "text": [
      "0.4756953076625501\n"
     ]
    }
   ],
   "source": [
    "print(1 - math.factorial(365)/((365**22) * math.factorial(365 - 22)))"
   ]
  },
  {
   "cell_type": "code",
   "execution_count": 61,
   "metadata": {},
   "outputs": [
    {
     "name": "stdout",
     "output_type": "stream",
     "text": [
      "23\n"
     ]
    }
   ],
   "source": [
    "n = 1\n",
    "k = ((math.factorial(365))/((math.factorial(365 - n))*365**n))\n",
    "while k >= 0.5:\n",
    "    n += 1\n",
    "    k = ((math.factorial(365))/((math.factorial(365 - n))*365**n))\n",
    "print(n)"
   ]
  }
 ],
 "metadata": {
  "kernelspec": {
   "display_name": "Python 3",
   "language": "python",
   "name": "python3"
  },
  "language_info": {
   "codemirror_mode": {
    "name": "ipython",
    "version": 3
   },
   "file_extension": ".py",
   "mimetype": "text/x-python",
   "name": "python",
   "nbconvert_exporter": "python",
   "pygments_lexer": "ipython3",
   "version": "3.7.4"
  }
 },
 "nbformat": 4,
 "nbformat_minor": 2
}

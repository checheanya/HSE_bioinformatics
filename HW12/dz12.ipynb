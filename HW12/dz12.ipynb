{
 "cells": [
  {
   "cell_type": "markdown",
   "metadata": {},
   "source": [
    "### Problem 2"
   ]
  },
  {
   "cell_type": "code",
   "execution_count": 71,
   "metadata": {},
   "outputs": [],
   "source": [
    "import pandas as pd\n",
    "import numpy as np\n",
    "from scipy import stats\n",
    "from scipy.stats import ttest_rel, ttest_ind, shapiro"
   ]
  },
  {
   "cell_type": "code",
   "execution_count": 25,
   "metadata": {},
   "outputs": [
    {
     "name": "stdout",
     "output_type": "stream",
     "text": [
      "Парный критерий Стьюдента:  0.0\n",
      "Непарный критерий Стьюдента:  0.4697020728008009\n"
     ]
    }
   ],
   "source": [
    "x = [1, 2, 3, 4, 5, 6, 7, 8, 9, 10]\n",
    "y = [2, 3, 4, 5, 6, 7, 8, 9, 10, 11]\n",
    "print('Парный критерий Стьюдента: ', ttest_rel(x, y)[1])\n",
    "print('Непарный критерий Стьюдента: ', ttest_ind(x, y)[1])"
   ]
  },
  {
   "cell_type": "markdown",
   "metadata": {},
   "source": [
    "### Problem 3"
   ]
  },
  {
   "cell_type": "code",
   "execution_count": 40,
   "metadata": {},
   "outputs": [
    {
     "name": "stdout",
     "output_type": "stream",
     "text": [
      "Парный критерий Стьюдента:  0.1303657875786181\n",
      "Непарный критерий Стьюдента:  0.0336167947004744\n"
     ]
    }
   ],
   "source": [
    "x = [-1, 2, 3, -14, 5, 6, -17, 8, 9, 10]\n",
    "y = [1, -2, -13, 4, -15, -16, 7, -18, -19, -20]\n",
    "print('Парный критерий Стьюдента: ', ttest_rel(x, y)[1])\n",
    "print('Непарный критерий Стьюдента: ', ttest_ind(x, y)[1])"
   ]
  },
  {
   "cell_type": "markdown",
   "metadata": {},
   "source": [
    "### Problem 4"
   ]
  },
  {
   "cell_type": "code",
   "execution_count": 65,
   "metadata": {},
   "outputs": [
    {
     "data": {
      "text/html": [
       "<div>\n",
       "<style scoped>\n",
       "    .dataframe tbody tr th:only-of-type {\n",
       "        vertical-align: middle;\n",
       "    }\n",
       "\n",
       "    .dataframe tbody tr th {\n",
       "        vertical-align: top;\n",
       "    }\n",
       "\n",
       "    .dataframe thead th {\n",
       "        text-align: right;\n",
       "    }\n",
       "</style>\n",
       "<table border=\"1\" class=\"dataframe\">\n",
       "  <thead>\n",
       "    <tr style=\"text-align: right;\">\n",
       "      <th></th>\n",
       "      <th>TCGA-A6-2671-01A</th>\n",
       "      <th>TCGA-A6-2675-01A</th>\n",
       "      <th>TCGA-A6-2678-01A</th>\n",
       "      <th>TCGA-A6-2679-01A</th>\n",
       "      <th>TCGA-A6-2680-01A</th>\n",
       "      <th>TCGA-A6-2671-11A</th>\n",
       "      <th>TCGA-A6-2675-11A</th>\n",
       "      <th>TCGA-A6-2678-11A</th>\n",
       "      <th>TCGA-A6-2679-11A</th>\n",
       "      <th>TCGA-A6-2680-11A</th>\n",
       "    </tr>\n",
       "  </thead>\n",
       "  <tbody>\n",
       "    <tr>\n",
       "      <td>A1CF</td>\n",
       "      <td>0.104572</td>\n",
       "      <td>1.879323</td>\n",
       "      <td>2.263045</td>\n",
       "      <td>0.591325</td>\n",
       "      <td>1.748081</td>\n",
       "      <td>2.806357</td>\n",
       "      <td>1.943005</td>\n",
       "      <td>3.286552</td>\n",
       "      <td>2.621292</td>\n",
       "      <td>3.730646</td>\n",
       "    </tr>\n",
       "    <tr>\n",
       "      <td>A2M</td>\n",
       "      <td>5.245269</td>\n",
       "      <td>6.391484</td>\n",
       "      <td>5.349484</td>\n",
       "      <td>3.757025</td>\n",
       "      <td>5.531613</td>\n",
       "      <td>6.595546</td>\n",
       "      <td>7.227086</td>\n",
       "      <td>7.368415</td>\n",
       "      <td>6.973612</td>\n",
       "      <td>6.050510</td>\n",
       "    </tr>\n",
       "    <tr>\n",
       "      <td>A4GALT</td>\n",
       "      <td>1.950884</td>\n",
       "      <td>2.658956</td>\n",
       "      <td>1.106100</td>\n",
       "      <td>2.531637</td>\n",
       "      <td>2.134035</td>\n",
       "      <td>2.577567</td>\n",
       "      <td>3.497008</td>\n",
       "      <td>2.434910</td>\n",
       "      <td>2.275149</td>\n",
       "      <td>2.388146</td>\n",
       "    </tr>\n",
       "  </tbody>\n",
       "</table>\n",
       "</div>"
      ],
      "text/plain": [
       "        TCGA-A6-2671-01A  TCGA-A6-2675-01A  TCGA-A6-2678-01A  \\\n",
       "A1CF            0.104572          1.879323          2.263045   \n",
       "A2M             5.245269          6.391484          5.349484   \n",
       "A4GALT          1.950884          2.658956          1.106100   \n",
       "\n",
       "        TCGA-A6-2679-01A  TCGA-A6-2680-01A  TCGA-A6-2671-11A  \\\n",
       "A1CF            0.591325          1.748081          2.806357   \n",
       "A2M             3.757025          5.531613          6.595546   \n",
       "A4GALT          2.531637          2.134035          2.577567   \n",
       "\n",
       "        TCGA-A6-2675-11A  TCGA-A6-2678-11A  TCGA-A6-2679-11A  TCGA-A6-2680-11A  \n",
       "A1CF            1.943005          3.286552          2.621292          3.730646  \n",
       "A2M             7.227086          7.368415          6.973612          6.050510  \n",
       "A4GALT          3.497008          2.434910          2.275149          2.388146  "
      ]
     },
     "execution_count": 65,
     "metadata": {},
     "output_type": "execute_result"
    }
   ],
   "source": [
    "df = pd.read_csv('colon_cancer_tumor_vs_normal_paired_FPKM.tsv', sep='\\t', index_col=0)\n",
    "df.head(3)"
   ]
  },
  {
   "cell_type": "code",
   "execution_count": 66,
   "metadata": {},
   "outputs": [
    {
     "data": {
      "text/html": [
       "<div>\n",
       "<style scoped>\n",
       "    .dataframe tbody tr th:only-of-type {\n",
       "        vertical-align: middle;\n",
       "    }\n",
       "\n",
       "    .dataframe tbody tr th {\n",
       "        vertical-align: top;\n",
       "    }\n",
       "\n",
       "    .dataframe thead th {\n",
       "        text-align: right;\n",
       "    }\n",
       "</style>\n",
       "<table border=\"1\" class=\"dataframe\">\n",
       "  <thead>\n",
       "    <tr style=\"text-align: right;\">\n",
       "      <th></th>\n",
       "      <th>TCGA-A6-2671-01A</th>\n",
       "      <th>TCGA-A6-2675-01A</th>\n",
       "      <th>TCGA-A6-2678-01A</th>\n",
       "      <th>TCGA-A6-2679-01A</th>\n",
       "      <th>TCGA-A6-2680-01A</th>\n",
       "      <th>TCGA-A6-2671-11A</th>\n",
       "      <th>TCGA-A6-2675-11A</th>\n",
       "      <th>TCGA-A6-2678-11A</th>\n",
       "      <th>TCGA-A6-2679-11A</th>\n",
       "      <th>TCGA-A6-2680-11A</th>\n",
       "      <th>unpaired</th>\n",
       "      <th>paired</th>\n",
       "    </tr>\n",
       "  </thead>\n",
       "  <tbody>\n",
       "    <tr>\n",
       "      <td>A1CF</td>\n",
       "      <td>0.104572</td>\n",
       "      <td>1.879323</td>\n",
       "      <td>2.263045</td>\n",
       "      <td>0.591325</td>\n",
       "      <td>1.748081</td>\n",
       "      <td>2.806357</td>\n",
       "      <td>1.943005</td>\n",
       "      <td>3.286552</td>\n",
       "      <td>2.621292</td>\n",
       "      <td>3.730646</td>\n",
       "      <td>0.015811</td>\n",
       "      <td>0.027459</td>\n",
       "    </tr>\n",
       "    <tr>\n",
       "      <td>A2M</td>\n",
       "      <td>5.245269</td>\n",
       "      <td>6.391484</td>\n",
       "      <td>5.349484</td>\n",
       "      <td>3.757025</td>\n",
       "      <td>5.531613</td>\n",
       "      <td>6.595546</td>\n",
       "      <td>7.227086</td>\n",
       "      <td>7.368415</td>\n",
       "      <td>6.973612</td>\n",
       "      <td>6.050510</td>\n",
       "      <td>0.011557</td>\n",
       "      <td>0.029653</td>\n",
       "    </tr>\n",
       "    <tr>\n",
       "      <td>A4GALT</td>\n",
       "      <td>1.950884</td>\n",
       "      <td>2.658956</td>\n",
       "      <td>1.106100</td>\n",
       "      <td>2.531637</td>\n",
       "      <td>2.134035</td>\n",
       "      <td>2.577567</td>\n",
       "      <td>3.497008</td>\n",
       "      <td>2.434910</td>\n",
       "      <td>2.275149</td>\n",
       "      <td>2.388146</td>\n",
       "      <td>0.151852</td>\n",
       "      <td>0.105370</td>\n",
       "    </tr>\n",
       "  </tbody>\n",
       "</table>\n",
       "</div>"
      ],
      "text/plain": [
       "        TCGA-A6-2671-01A  TCGA-A6-2675-01A  TCGA-A6-2678-01A  \\\n",
       "A1CF            0.104572          1.879323          2.263045   \n",
       "A2M             5.245269          6.391484          5.349484   \n",
       "A4GALT          1.950884          2.658956          1.106100   \n",
       "\n",
       "        TCGA-A6-2679-01A  TCGA-A6-2680-01A  TCGA-A6-2671-11A  \\\n",
       "A1CF            0.591325          1.748081          2.806357   \n",
       "A2M             3.757025          5.531613          6.595546   \n",
       "A4GALT          2.531637          2.134035          2.577567   \n",
       "\n",
       "        TCGA-A6-2675-11A  TCGA-A6-2678-11A  TCGA-A6-2679-11A  \\\n",
       "A1CF            1.943005          3.286552          2.621292   \n",
       "A2M             7.227086          7.368415          6.973612   \n",
       "A4GALT          3.497008          2.434910          2.275149   \n",
       "\n",
       "        TCGA-A6-2680-11A  unpaired    paired  \n",
       "A1CF            3.730646  0.015811  0.027459  \n",
       "A2M             6.050510  0.011557  0.029653  \n",
       "A4GALT          2.388146  0.151852  0.105370  "
      ]
     },
     "execution_count": 66,
     "metadata": {},
     "output_type": "execute_result"
    }
   ],
   "source": [
    "df['unpaired'] = stats.ttest_ind(df.iloc[:, 0:5], df.iloc[:, 5:], axis=1)[1]\n",
    "df['paired'] = stats.ttest_rel(df.iloc[:, 0:5], df.iloc[:, 5:10], axis=1)[1]\n",
    "df.head(3)"
   ]
  },
  {
   "cell_type": "code",
   "execution_count": 67,
   "metadata": {},
   "outputs": [
    {
     "name": "stdout",
     "output_type": "stream",
     "text": [
      "Number of genes with differential expression, unpaired test: 5516\n"
     ]
    }
   ],
   "source": [
    "df.sort_values('unpaired', inplace=True)\n",
    "print(\"Number of genes with differential expression, unpaired test:\", df.loc[df['unpaired'] < 0.05].shape[0])"
   ]
  },
  {
   "cell_type": "code",
   "execution_count": 68,
   "metadata": {},
   "outputs": [
    {
     "name": "stdout",
     "output_type": "stream",
     "text": [
      "Number of genes with differential expression, paired test: 5067\n"
     ]
    }
   ],
   "source": [
    "df.sort_values('paired', inplace=True)\n",
    "print(\"Number of genes with differential expression, paired test:\", df.loc[df['paired'] < 0.05].shape[0])"
   ]
  },
  {
   "cell_type": "code",
   "execution_count": 69,
   "metadata": {},
   "outputs": [
    {
     "name": "stdout",
     "output_type": "stream",
     "text": [
      "Genes, menshioned twice:  {'RNF112', 'SPTBN2', 'ITM2A'}\n",
      "Number:  3\n"
     ]
    }
   ],
   "source": [
    "df.sort_values('unpaired', inplace=True)\n",
    "top_uppaired = set(df.iloc[:10].index)\n",
    "df.sort_values('paired', inplace=True)\n",
    "top_paired = set(df.iloc[:10].index)\n",
    "both = top_uppaired.intersection(top_paired)\n",
    "print(\"Genes, menshioned twice: \", both)\n",
    "print(\"Number: \", len(both))"
   ]
  },
  {
   "cell_type": "markdown",
   "metadata": {},
   "source": [
    "### Problem 5"
   ]
  },
  {
   "cell_type": "code",
   "execution_count": 72,
   "metadata": {},
   "outputs": [
    {
     "data": {
      "text/html": [
       "<div>\n",
       "<style scoped>\n",
       "    .dataframe tbody tr th:only-of-type {\n",
       "        vertical-align: middle;\n",
       "    }\n",
       "\n",
       "    .dataframe tbody tr th {\n",
       "        vertical-align: top;\n",
       "    }\n",
       "\n",
       "    .dataframe thead th {\n",
       "        text-align: right;\n",
       "    }\n",
       "</style>\n",
       "<table border=\"1\" class=\"dataframe\">\n",
       "  <thead>\n",
       "    <tr style=\"text-align: right;\">\n",
       "      <th></th>\n",
       "      <th>TCGA-3C-AAAU-01A</th>\n",
       "      <th>TCGA-3C-AALI-01A</th>\n",
       "      <th>TCGA-3C-AALJ-01A</th>\n",
       "      <th>TCGA-3C-AALK-01A</th>\n",
       "      <th>TCGA-4H-AAAK-01A</th>\n",
       "      <th>TCGA-5L-AAT0-01A</th>\n",
       "      <th>TCGA-5L-AAT1-01A</th>\n",
       "      <th>TCGA-5T-A9QA-01A</th>\n",
       "      <th>TCGA-A1-A0SB-01A</th>\n",
       "      <th>TCGA-A1-A0SD-01A</th>\n",
       "      <th>...</th>\n",
       "      <th>TCGA-A2-A0YT-01A</th>\n",
       "      <th>TCGA-A2-A1FV-01A</th>\n",
       "      <th>TCGA-A2-A1FW-01A</th>\n",
       "      <th>TCGA-A2-A1FX-01A</th>\n",
       "      <th>TCGA-A2-A1FZ-01A</th>\n",
       "      <th>TCGA-A2-A1G0-01A</th>\n",
       "      <th>TCGA-A2-A1G1-01A</th>\n",
       "      <th>TCGA-A2-A1G4-01A</th>\n",
       "      <th>TCGA-A2-A1G6-01A</th>\n",
       "      <th>TCGA-A2-A259-01A</th>\n",
       "    </tr>\n",
       "  </thead>\n",
       "  <tbody>\n",
       "    <tr>\n",
       "      <td>MT-CO3</td>\n",
       "      <td>12.208682</td>\n",
       "      <td>11.940729</td>\n",
       "      <td>13.206648</td>\n",
       "      <td>12.730925</td>\n",
       "      <td>12.149072</td>\n",
       "      <td>12.731782</td>\n",
       "      <td>12.450704</td>\n",
       "      <td>12.295202</td>\n",
       "      <td>11.796976</td>\n",
       "      <td>12.445482</td>\n",
       "      <td>...</td>\n",
       "      <td>12.651773</td>\n",
       "      <td>13.309171</td>\n",
       "      <td>12.063368</td>\n",
       "      <td>10.807096</td>\n",
       "      <td>11.676859</td>\n",
       "      <td>11.477643</td>\n",
       "      <td>12.042867</td>\n",
       "      <td>12.656959</td>\n",
       "      <td>11.617341</td>\n",
       "      <td>12.116037</td>\n",
       "    </tr>\n",
       "    <tr>\n",
       "      <td>MT-CO2</td>\n",
       "      <td>12.635929</td>\n",
       "      <td>12.496213</td>\n",
       "      <td>12.923663</td>\n",
       "      <td>12.780144</td>\n",
       "      <td>11.592246</td>\n",
       "      <td>12.105826</td>\n",
       "      <td>11.925842</td>\n",
       "      <td>12.907561</td>\n",
       "      <td>11.301659</td>\n",
       "      <td>12.192156</td>\n",
       "      <td>...</td>\n",
       "      <td>12.707383</td>\n",
       "      <td>13.619689</td>\n",
       "      <td>12.917135</td>\n",
       "      <td>11.349408</td>\n",
       "      <td>11.126341</td>\n",
       "      <td>11.420112</td>\n",
       "      <td>12.046082</td>\n",
       "      <td>12.216181</td>\n",
       "      <td>11.234004</td>\n",
       "      <td>11.894146</td>\n",
       "    </tr>\n",
       "    <tr>\n",
       "      <td>MT-CO1</td>\n",
       "      <td>12.685701</td>\n",
       "      <td>12.396964</td>\n",
       "      <td>12.763896</td>\n",
       "      <td>12.600145</td>\n",
       "      <td>11.909936</td>\n",
       "      <td>12.319483</td>\n",
       "      <td>12.042444</td>\n",
       "      <td>11.626691</td>\n",
       "      <td>11.533184</td>\n",
       "      <td>12.848486</td>\n",
       "      <td>...</td>\n",
       "      <td>12.730155</td>\n",
       "      <td>13.561623</td>\n",
       "      <td>12.534351</td>\n",
       "      <td>9.842210</td>\n",
       "      <td>11.990492</td>\n",
       "      <td>11.854787</td>\n",
       "      <td>12.129189</td>\n",
       "      <td>12.669717</td>\n",
       "      <td>11.581176</td>\n",
       "      <td>11.858962</td>\n",
       "    </tr>\n",
       "  </tbody>\n",
       "</table>\n",
       "<p>3 rows × 100 columns</p>\n",
       "</div>"
      ],
      "text/plain": [
       "        TCGA-3C-AAAU-01A  TCGA-3C-AALI-01A  TCGA-3C-AALJ-01A  \\\n",
       "MT-CO3         12.208682         11.940729         13.206648   \n",
       "MT-CO2         12.635929         12.496213         12.923663   \n",
       "MT-CO1         12.685701         12.396964         12.763896   \n",
       "\n",
       "        TCGA-3C-AALK-01A  TCGA-4H-AAAK-01A  TCGA-5L-AAT0-01A  \\\n",
       "MT-CO3         12.730925         12.149072         12.731782   \n",
       "MT-CO2         12.780144         11.592246         12.105826   \n",
       "MT-CO1         12.600145         11.909936         12.319483   \n",
       "\n",
       "        TCGA-5L-AAT1-01A  TCGA-5T-A9QA-01A  TCGA-A1-A0SB-01A  \\\n",
       "MT-CO3         12.450704         12.295202         11.796976   \n",
       "MT-CO2         11.925842         12.907561         11.301659   \n",
       "MT-CO1         12.042444         11.626691         11.533184   \n",
       "\n",
       "        TCGA-A1-A0SD-01A  ...  TCGA-A2-A0YT-01A  TCGA-A2-A1FV-01A  \\\n",
       "MT-CO3         12.445482  ...         12.651773         13.309171   \n",
       "MT-CO2         12.192156  ...         12.707383         13.619689   \n",
       "MT-CO1         12.848486  ...         12.730155         13.561623   \n",
       "\n",
       "        TCGA-A2-A1FW-01A  TCGA-A2-A1FX-01A  TCGA-A2-A1FZ-01A  \\\n",
       "MT-CO3         12.063368         10.807096         11.676859   \n",
       "MT-CO2         12.917135         11.349408         11.126341   \n",
       "MT-CO1         12.534351          9.842210         11.990492   \n",
       "\n",
       "        TCGA-A2-A1G0-01A  TCGA-A2-A1G1-01A  TCGA-A2-A1G4-01A  \\\n",
       "MT-CO3         11.477643         12.042867         12.656959   \n",
       "MT-CO2         11.420112         12.046082         12.216181   \n",
       "MT-CO1         11.854787         12.129189         12.669717   \n",
       "\n",
       "        TCGA-A2-A1G6-01A  TCGA-A2-A259-01A  \n",
       "MT-CO3         11.617341         12.116037  \n",
       "MT-CO2         11.234004         11.894146  \n",
       "MT-CO1         11.581176         11.858962  \n",
       "\n",
       "[3 rows x 100 columns]"
      ]
     },
     "execution_count": 72,
     "metadata": {},
     "output_type": "execute_result"
    }
   ],
   "source": [
    "df1 = pd.read_csv('breast_cancer_1000_genes.tsv', sep='\\t', index_col=0)\n",
    "df1.head(3)"
   ]
  },
  {
   "cell_type": "code",
   "execution_count": 74,
   "metadata": {},
   "outputs": [
    {
     "name": "stdout",
     "output_type": "stream",
     "text": [
      "56.89999999999999\n"
     ]
    }
   ],
   "source": [
    "count = 0\n",
    "for gene in df1.index:\n",
    "    if shapiro(df1.loc[gene])[1] > 0.05:\n",
    "        count += 1\n",
    "\n",
    "print(count/df1.shape[0] * 100)"
   ]
  }
 ],
 "metadata": {
  "kernelspec": {
   "display_name": "Python 3",
   "language": "python",
   "name": "python3"
  },
  "language_info": {
   "codemirror_mode": {
    "name": "ipython",
    "version": 3
   },
   "file_extension": ".py",
   "mimetype": "text/x-python",
   "name": "python",
   "nbconvert_exporter": "python",
   "pygments_lexer": "ipython3",
   "version": "3.7.4"
  }
 },
 "nbformat": 4,
 "nbformat_minor": 2
}
